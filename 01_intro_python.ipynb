{
 "cells": [
  {
   "cell_type": "markdown",
   "metadata": {
    "slideshow": {
     "slide_type": "slide"
    }
   },
   "source": [
    "# Introducción a Python"
   ]
  },
  {
   "cell_type": "markdown",
   "metadata": {
    "slideshow": {
     "slide_type": "slide"
    }
   },
   "source": [
    "_\"I don't know about the rest of you..._ \n",
    "_I came for the language, but I stayed for the community.\"_\n",
    "\n",
    "Brett Cannon, Python Core Dev\n"
   ]
  },
  {
   "cell_type": "markdown",
   "metadata": {
    "slideshow": {
     "slide_type": "slide"
    }
   },
   "source": [
    "#### ¿Qué es Python?\n",
    "\n",
    "*  Creado por [Guido van Rossum](https://es.wikipedia.org/wiki/Guido_van_Rossum) en 1991.\n",
    "* Lenguaje de programación libre y gratuito. Características:\n",
    "    * interpretado\n",
    "    * de alto nivel\n",
    "    * de propósito general\n",
    "    * tipado dinámico\n",
    "    * gestión automática de memoria\n",
    "    * múltiples paradigmas de programación (OOP, Funcional...)\n",
    "    * multitud de paquetes para realizar diferentes tareas."
   ]
  },
  {
   "cell_type": "markdown",
   "metadata": {
    "slideshow": {
     "slide_type": "slide"
    }
   },
   "source": [
    "#### Además...\n",
    "\n",
    "Con una gran comunidad, abierta, diversa, inclusiva...  \n",
    "- Python Software Foundation\n",
    "- Python España \n",
    "- Python Madrid\n",
    "- PyLadies Madrid\n",
    "- Djangogirls"
   ]
  },
  {
   "cell_type": "markdown",
   "metadata": {
    "slideshow": {
     "slide_type": "slide"
    }
   },
   "source": [
    "## Instalación de Python, entornos virtuales y gestores de paquetes"
   ]
  },
  {
   "cell_type": "markdown",
   "metadata": {
    "slideshow": {
     "slide_type": "fragment"
    }
   },
   "source": [
    "### Diferentes distribuciones:\n",
    "* [PYTHON.ORG](https://www.python.org/)\n",
    "* [ANACONDA](https://anaconda.org/) "
   ]
  },
  {
   "cell_type": "markdown",
   "metadata": {
    "slideshow": {
     "slide_type": "fragment"
    }
   },
   "source": [
    "### Diferentes versiones:\n",
    "* 2.X\n",
    "* 3.X"
   ]
  },
  {
   "cell_type": "markdown",
   "metadata": {
    "slideshow": {
     "slide_type": "slide"
    }
   },
   "source": [
    "### Entornos virtuales\n",
    "\n",
    "- El propósito principal de los entornos virtuales de Python es crear un entorno aislado para los proyectos de Python. \n",
    "\n",
    "- Esto significa que cada proyecto puede tener sus propias dependencias, independientemente de qué dependencias tenga cada otro proyecto."
   ]
  },
  {
   "cell_type": "markdown",
   "metadata": {
    "slideshow": {
     "slide_type": "slide"
    }
   },
   "source": [
    "### Entornos virtuales\n",
    "\n",
    "- **venv** es la herramienta estándar para crear entornos virtuales, y ha sido parte de Python desde Python 3.3. A partir de Python 3.4, se instala de forma predeterminada pip en todos los entornos virtuales creados.\n",
    "- **virtualenv** es una alternativa de terceros (y predecesora) a venv. Permite que los entornos virtuales se utilicen en versiones de Python anteriores a 3.4, que no proporcionan ningún tipo de software o no pueden instalar pip automáticamente en los entornos creados.\n"
   ]
  },
  {
   "cell_type": "markdown",
   "metadata": {
    "slideshow": {
     "slide_type": "slide"
    }
   },
   "source": [
    "### Módulo venv - Python 3.x\n",
    "#### Crear el entorno virtual\n",
    "\n",
    "En linux:\n",
    "```\n",
    "$ python3 -m venv c:\\path\\to\\myenv\n",
    "```\n",
    "\n",
    "En windows:\n",
    "```\n",
    "c:\\> c:\\Python35\\python -m venv c:\\path\\to\\myenv\n",
    "```"
   ]
  },
  {
   "cell_type": "markdown",
   "metadata": {
    "slideshow": {
     "slide_type": "slide"
    }
   },
   "source": [
    "### Módulo venv - Python 3.x\n",
    "#### Activar el entorno virtual\n",
    "En linux:\n",
    "```\n",
    "$ source venv/bin/activate\n",
    "```\n",
    "\n",
    "En Windows:\n",
    "```\n",
    "c:\\> venv\\Scripts\\activate.bat\n",
    "```"
   ]
  },
  {
   "cell_type": "markdown",
   "metadata": {
    "slideshow": {
     "slide_type": "slide"
    }
   },
   "source": [
    "### Gestión de paquetes con pip\n",
    "- Puede instalar, actualizar y eliminar paquetes utilizando un programa llamado pip. \n",
    "- Python empezó a incluir pip con Python 3.4. Para versiones anteriores, pip debe ser activada como se describe [aquí](https://packaging.python.org/tutorials/installing-packages/#requirements-for-installing-packages).\n",
    "- Por defecto, pip instalará los paquetes del Índice de Paquetes de Python, [pypi.org](https://pypi.org)\n"
   ]
  },
  {
   "cell_type": "markdown",
   "metadata": {
    "slideshow": {
     "slide_type": "slide"
    }
   },
   "source": [
    "Usando la instalación de Python por defecto\n",
    "```\n",
    "$ python    -m pip install SomePackage\n",
    "```\n",
    "\n",
    "Usando la versioń por defecto de Python 2\n",
    "```\n",
    "$ python2   -m pip install SomePackage\n",
    "```\n",
    "\n",
    "Usando la versión específica de Python 2.7\n",
    "```\n",
    "$ python2.7 -m pip install SomePackage  # specifically Python 2.7\n",
    "```\n",
    "\n",
    "Usando la versión por defecto de Python 3\n",
    "```\n",
    "$ python3   -m pip install SomePackage  # default Python 3\n",
    "```\n",
    "\n",
    "Usando la versión específica de Python 3.4\n",
    "```\n",
    "$ python3.4 -m pip install SomePackage  # specifically Python 3.4\n",
    "```"
   ]
  },
  {
   "cell_type": "markdown",
   "metadata": {
    "slideshow": {
     "slide_type": "slide"
    }
   },
   "source": [
    "Instalar la última versión de “SomeProject”\n",
    "```\n",
    "$ pip install \"SomeProject\"\n",
    "```\n",
    "\n",
    "Instalar una versión específica\n",
    "```\n",
    "$ pip install \"SomeProject==1.4\"\n",
    "```\n",
    "\n",
    "Instalar una versión compatible con otra versión específica\n",
    "```\n",
    "$ pip install \"SomeProject~=1.4.2\"  \n",
    "```"
   ]
  },
  {
   "cell_type": "markdown",
   "metadata": {
    "slideshow": {
     "slide_type": "slide"
    }
   },
   "source": [
    "Actualizar SomeProject a la última versión de PyPi\n",
    "```\n",
    "$ pip install --upgrade SomeProject\n",
    "```\n",
    "\n",
    "Instalar una lista de librerías desde un fichero de requirements\n",
    "```\n",
    "$ pip install -r requirements.txt\n",
    "```\n",
    "\n",
    "Generar un fichero de requirements a partir del virtual env actual\n",
    "```\n",
    "$ pip freeze > requirements.txt\n",
    "```"
   ]
  },
  {
   "cell_type": "markdown",
   "metadata": {
    "slideshow": {
     "slide_type": "slide"
    }
   },
   "source": [
    "## 3. Librerías relevantes\n",
    "#### Ipython, jupyter, numpy, pandas..."
   ]
  },
  {
   "cell_type": "markdown",
   "metadata": {
    "slideshow": {
     "slide_type": "slide"
    }
   },
   "source": [
    "### Proyecto Jupyter\n"
   ]
  },
  {
   "cell_type": "markdown",
   "metadata": {
    "slideshow": {
     "slide_type": "slide"
    }
   },
   "source": [
    "### IPython\n",
    "\n",
    "- Es un shell interactivo que añade funcionalidades extra al modo interactivo incluido con Python.\n",
    "- Es multiplataforma, es software libre, tiene una enorme comunidad detrás, un desarrollo constante y bien organizado y es extremadamente potente."
   ]
  },
  {
   "cell_type": "markdown",
   "metadata": {
    "slideshow": {
     "slide_type": "slide"
    }
   },
   "source": [
    "### Jupyter Notebook\n",
    "#### [jupyter.org/try](https://jupyter.org/try)"
   ]
  },
  {
   "cell_type": "markdown",
   "metadata": {
    "slideshow": {
     "slide_type": "slide"
    }
   },
   "source": [
    "### Jupyter Notebook & Slides\n",
    "[https://github.com/damianavila/RISE](https://github.com/damianavila/RISE)\n"
   ]
  },
  {
   "cell_type": "markdown",
   "metadata": {
    "slideshow": {
     "slide_type": "slide"
    }
   },
   "source": [
    "### Jupyter Lab\n",
    "#### [jupyter.org/try](https://jupyter.org/try)"
   ]
  },
  {
   "cell_type": "markdown",
   "metadata": {
    "slideshow": {
     "slide_type": "slide"
    }
   },
   "source": [
    "### [Numpy](teoria/numpy.ipynb)"
   ]
  },
  {
   "cell_type": "markdown",
   "metadata": {},
   "source": [
    "## Pandas\n",
    "- Pandas es una herramienta de manipulación de datos de alto nivel desarrollada por Wes McKinney. \n",
    "- Está construido con el paquete Numpy y su estructura de datos clave es llamada el DataFrame. \n",
    "- El DataFrame te permite almacenar y manipular datos tabulados en filas de observaciones y columnas de variables."
   ]
  },
  {
   "cell_type": "code",
   "execution_count": null,
   "metadata": {
    "slideshow": {
     "slide_type": "slide"
    }
   },
   "outputs": [],
   "source": []
  }
 ],
 "metadata": {
  "celltoolbar": "Slideshow",
  "kernelspec": {
   "display_name": "Python 3",
   "language": "python",
   "name": "python3"
  },
  "language_info": {
   "codemirror_mode": {
    "name": "ipython",
    "version": 3
   },
   "file_extension": ".py",
   "mimetype": "text/x-python",
   "name": "python",
   "nbconvert_exporter": "python",
   "pygments_lexer": "ipython3",
   "version": "3.6.7"
  }
 },
 "nbformat": 4,
 "nbformat_minor": 2
}
