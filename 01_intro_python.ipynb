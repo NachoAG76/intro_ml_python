{
 "cells": [
  {
   "cell_type": "markdown",
   "metadata": {
    "slideshow": {
     "slide_type": "slide"
    }
   },
   "source": [
    "# Introducción a Python"
   ]
  },
  {
   "cell_type": "markdown",
   "metadata": {
    "slideshow": {
     "slide_type": "slide"
    }
   },
   "source": [
    "_\"I don't know about the rest of you..._ \n",
    "_I came for the language, but I stayed for the community.\"_\n",
    "\n",
    "Brett Cannon, Python Core Dev\n"
   ]
  },
  {
   "cell_type": "markdown",
   "metadata": {
    "slideshow": {
     "slide_type": "slide"
    }
   },
   "source": [
    "#### ¿Qué es Python?\n",
    "\n",
    "*  Creado por [Guido van Rossum](https://es.wikipedia.org/wiki/Guido_van_Rossum) en 1991.\n",
    "* Lenguaje de programación libre y gratuito. Características:\n",
    "    * interpretado\n",
    "    * de alto nivel\n",
    "    * de propósito general\n",
    "    * tipado dinámico\n",
    "    * gestión automática de memoria\n",
    "    * múltiples paradigmas de programación (OOP, Funcional...)\n",
    "    * multitud de paquetes para realizar diferentes tareas."
   ]
  },
  {
   "cell_type": "markdown",
   "metadata": {
    "slideshow": {
     "slide_type": "slide"
    }
   },
   "source": [
    "#### Además...\n",
    "\n",
    "Con una gran comunidad, abierta, diversa, inclusiva...  \n",
    "- Python Software Foundation\n",
    "- Python España \n",
    "- Python Madrid\n",
    "- PyLadies Madrid\n",
    "- Djangogirls"
   ]
  },
  {
   "cell_type": "markdown",
   "metadata": {
    "slideshow": {
     "slide_type": "slide"
    }
   },
   "source": [
    "## Instalación de Python, entornos virtuales y gestores de paquetes"
   ]
  },
  {
   "cell_type": "markdown",
   "metadata": {
    "slideshow": {
     "slide_type": "fragment"
    }
   },
   "source": [
    "### Diferentes distribuciones:\n",
    "* [PYTHON.ORG](https://www.python.org/)\n",
    "* [ANACONDA](https://anaconda.org/) "
   ]
  },
  {
   "cell_type": "markdown",
   "metadata": {
    "slideshow": {
     "slide_type": "fragment"
    }
   },
   "source": [
    "### Diferentes versiones:\n",
    "* 2.X\n",
    "* 3.X"
   ]
  },
  {
   "cell_type": "markdown",
   "metadata": {
    "slideshow": {
     "slide_type": "slide"
    }
   },
   "source": [
    "### Entornos virtuales\n",
    "\n",
    "- El propósito principal de los entornos virtuales de Python es crear un entorno aislado para los proyectos de Python. \n",
    "\n",
    "- Esto significa que cada proyecto puede tener sus propias dependencias, independientemente de qué dependencias tenga cada otro proyecto."
   ]
  },
  {
   "cell_type": "markdown",
   "metadata": {
    "slideshow": {
     "slide_type": "slide"
    }
   },
   "source": [
    "### Entornos virtuales\n",
    "\n",
    "- **venv** es la herramienta estándar para crear entornos virtuales, y ha sido parte de Python desde Python 3.3. A partir de Python 3.4, se instala de forma predeterminada pip en todos los entornos virtuales creados.\n",
    "- **virtualenv** es una alternativa de terceros (y predecesora) a venv. Permite que los entornos virtuales se utilicen en versiones de Python anteriores a 3.4, que no proporcionan ningún tipo de software o no pueden instalar pip automáticamente en los entornos creados.\n"
   ]
  },
  {
   "cell_type": "markdown",
   "metadata": {
    "slideshow": {
     "slide_type": "slide"
    }
   },
   "source": [
    "### Módulo venv - Python 3.x\n",
    "#### Crear el entorno virtual\n",
    "\n",
    "En linux:\n",
    "```\n",
    "$ python3 -m venv c:\\path\\to\\myenv\n",
    "```\n",
    "\n",
    "En windows:\n",
    "```\n",
    "c:\\> c:\\Python35\\python -m venv c:\\path\\to\\myenv\n",
    "```"
   ]
  },
  {
   "cell_type": "markdown",
   "metadata": {
    "slideshow": {
     "slide_type": "slide"
    }
   },
   "source": [
    "### Módulo venv - Python 3.x\n",
    "#### Activar el entorno virtual\n",
    "En linux:\n",
    "```\n",
    "$ source venv/bin/activate\n",
    "```\n",
    "\n",
    "En Windows:\n",
    "```\n",
    "c:\\> venv\\Scripts\\activate.bat\n",
    "```"
   ]
  },
  {
   "cell_type": "markdown",
   "metadata": {
    "slideshow": {
     "slide_type": "slide"
    }
   },
   "source": [
    "### Gestión de paquetes con pip\n",
    "- Puede instalar, actualizar y eliminar paquetes utilizando un programa llamado pip. \n",
    "- Python empezó a incluir pip con Python 3.4. Para versiones anteriores, pip debe ser activada como se describe [aquí](https://packaging.python.org/tutorials/installing-packages/#requirements-for-installing-packages).\n",
    "- Por defecto, pip instalará los paquetes del Índice de Paquetes de Python, [pypi.org](https://pypi.org)\n"
   ]
  },
  {
   "cell_type": "markdown",
   "metadata": {
    "slideshow": {
     "slide_type": "slide"
    }
   },
   "source": [
    "Usando la instalación de Python por defecto\n",
    "```\n",
    "$ python    -m pip install SomePackage\n",
    "```\n",
    "\n",
    "Usando la versioń por defecto de Python 2\n",
    "```\n",
    "$ python2   -m pip install SomePackage\n",
    "```\n",
    "\n",
    "Usando la versión específica de Python 2.7\n",
    "```\n",
    "$ python2.7 -m pip install SomePackage  # specifically Python 2.7\n",
    "```\n",
    "\n",
    "Usando la versión por defecto de Python 3\n",
    "```\n",
    "$ python3   -m pip install SomePackage  # default Python 3\n",
    "```\n",
    "\n",
    "Usando la versión específica de Python 3.4\n",
    "```\n",
    "$ python3.4 -m pip install SomePackage  # specifically Python 3.4\n",
    "```"
   ]
  },
  {
   "cell_type": "markdown",
   "metadata": {
    "slideshow": {
     "slide_type": "slide"
    }
   },
   "source": [
    "Instalar la última versión de “SomeProject”\n",
    "```\n",
    "$ pip install \"SomeProject\"\n",
    "```\n",
    "\n",
    "Instalar una versión específica\n",
    "```\n",
    "$ pip install \"SomeProject==1.4\"\n",
    "```\n",
    "\n",
    "Instalar una versión compatible con otra versión específica\n",
    "```\n",
    "$ pip install \"SomeProject~=1.4.2\"  \n",
    "```"
   ]
  },
  {
   "cell_type": "markdown",
   "metadata": {
    "slideshow": {
     "slide_type": "slide"
    }
   },
   "source": [
    "Actualizar SomeProject a la última versión de PyPi\n",
    "```\n",
    "$ pip install --upgrade SomeProject\n",
    "```\n",
    "\n",
    "Instalar una lista de librerías desde un fichero de requirements\n",
    "```\n",
    "$ pip install -r requirements.txt\n",
    "```\n",
    "\n",
    "Generar un fichero de requirements a partir del virtual env actual\n",
    "```\n",
    "$ pip freeze > requirements.txt\n",
    "```"
   ]
  },
  {
   "cell_type": "markdown",
   "metadata": {
    "slideshow": {
     "slide_type": "slide"
    }
   },
   "source": [
    "## 3. Librerías relevantes\n",
    "#### Ipython, jupyter, numpy, pandas..."
   ]
  },
  {
   "cell_type": "markdown",
   "metadata": {
    "slideshow": {
     "slide_type": "slide"
    }
   },
   "source": [
    "### Proyecto Jupyter\n"
   ]
  },
  {
   "cell_type": "markdown",
   "metadata": {
    "slideshow": {
     "slide_type": "slide"
    }
   },
   "source": [
    "### IPython\n",
    "\n",
    "- Es un shell interactivo que añade funcionalidades extra al modo interactivo incluido con Python.\n",
    "- Es multiplataforma, es software libre, tiene una enorme comunidad detrás, un desarrollo constante y bien organizado y es extremadamente potente."
   ]
  },
  {
   "cell_type": "markdown",
   "metadata": {
    "slideshow": {
     "slide_type": "slide"
    }
   },
   "source": [
    "### Jupyter Notebook\n",
    "#### [jupyter.org/try](https://jupyter.org/try)"
   ]
  },
  {
   "cell_type": "markdown",
   "metadata": {
    "slideshow": {
     "slide_type": "slide"
    }
   },
   "source": [
    "### Jupyter Notebook & Slides\n",
    "[https://github.com/damianavila/RISE](https://github.com/damianavila/RISE)\n"
   ]
  },
  {
   "cell_type": "markdown",
   "metadata": {
    "slideshow": {
     "slide_type": "slide"
    }
   },
   "source": [
    "### Jupyter Lab\n",
    "#### [jupyter.org/try](https://jupyter.org/try)"
   ]
  },
  {
   "cell_type": "markdown",
   "metadata": {
    "slideshow": {
     "slide_type": "slide"
    }
   },
   "source": [
    "### Numpy"
   ]
  },
  {
   "cell_type": "code",
   "execution_count": 3,
   "metadata": {},
   "outputs": [
    {
     "name": "stdout",
     "output_type": "stream",
     "text": [
      "Collecting numpy\n",
      "\u001b[?25l  Downloading https://files.pythonhosted.org/packages/35/d5/4f8410ac303e690144f0a0603c4b8fd3b986feb2749c435f7cdbb288f17e/numpy-1.16.2-cp36-cp36m-manylinux1_x86_64.whl (17.3MB)\n",
      "\u001b[K    100% |████████████████████████████████| 17.3MB 1.1MB/s ta 0:00:01\n",
      "\u001b[?25hInstalling collected packages: numpy\n",
      "Successfully installed numpy-1.16.2\n"
     ]
    }
   ],
   "source": [
    "! pip install numpy"
   ]
  },
  {
   "cell_type": "code",
   "execution_count": 4,
   "metadata": {
    "slideshow": {
     "slide_type": "fragment"
    }
   },
   "outputs": [],
   "source": [
    "import numpy as np"
   ]
  },
  {
   "cell_type": "markdown",
   "metadata": {},
   "source": [
    "### Array creation"
   ]
  },
  {
   "cell_type": "code",
   "execution_count": 6,
   "metadata": {},
   "outputs": [
    {
     "name": "stdout",
     "output_type": "stream",
     "text": [
      "[1 2 3 4]\n"
     ]
    }
   ],
   "source": [
    "my_int_list = [1, 2, 3, 4]\n",
    "\n",
    "#create numpy array from original python list\n",
    "my_numpy_arr = np.array(my_int_list)\n",
    "\n",
    "print(my_numpy_arr)"
   ]
  },
  {
   "cell_type": "code",
   "execution_count": 7,
   "metadata": {},
   "outputs": [
    {
     "name": "stdout",
     "output_type": "stream",
     "text": [
      "[0. 0. 0. 0. 0. 0. 0. 0. 0. 0.]\n",
      "[1 1 1 1 1 1 1 1 1 1]\n",
      "[0 1 2 3 4 5 6 7 8 9]\n"
     ]
    }
   ],
   "source": [
    "# Array of zeros\n",
    "print(np.zeros(10))\n",
    "\n",
    "# Array of ones with type int\n",
    "print(np.ones(10, dtype=int))\n",
    "\n",
    "# Range of numbers\n",
    "rangeArray = np.array(range(10), int)\n",
    "print(rangeArray)"
   ]
  },
  {
   "cell_type": "code",
   "execution_count": 9,
   "metadata": {},
   "outputs": [
    {
     "name": "stdout",
     "output_type": "stream",
     "text": [
      "Random array: [0.04752425 0.32876333 0.65318407 0.77854901 0.10221907]\n",
      "\n",
      "Random matrix:\n",
      " [[0.00568129 0.16614453 0.85775616 0.31671229]\n",
      " [0.67856692 0.83185249 0.78997159 0.34482478]\n",
      " [0.78479077 0.74936952 0.93707904 0.98693664]\n",
      " [0.41207378 0.77045939 0.45152296 0.0546325 ]\n",
      " [0.61680563 0.75550677 0.10607306 0.61368765]]\n",
      "\n",
      "Random integer array: [1. 6. 4. 6. 0. 8. 4. 9. 5. 0.]\n",
      "\n",
      "Random matrix:\n",
      "[[8 7 1 4 1]\n",
      " [3 8 4 8 2]]\n",
      "\n"
     ]
    }
   ],
   "source": [
    "# Random array\n",
    "print(f\"Random array: {np.random.rand(5)}\\n\")\n",
    "\n",
    "# Random matrix\n",
    "print(f\"Random matrix:\\n {np.random.rand(5,4)}\\n\")\n",
    "\n",
    "# Random array of integers in a range (say 0-9)\n",
    "randomArray = np.floor(np.random.rand(10) * 10)\n",
    "print(f\"Random integer array: {randomArray}\\n\")\n",
    "\n",
    "# Futher simplification\n",
    "print(f\"Random matrix:\\n{np.random.randint(0, 10, (2,5))}\\n\")"
   ]
  },
  {
   "cell_type": "code",
   "execution_count": 11,
   "metadata": {},
   "outputs": [
    {
     "name": "stdout",
     "output_type": "stream",
     "text": [
      "[1 2 3 4 5 6]\n"
     ]
    }
   ],
   "source": [
    "integerArray = np.array([1,2,3,4], int)\n",
    "integerArray2 = np.array([5,6], int)\n",
    "\n",
    "# Concatenate two arrays\n",
    "print(np.concatenate((integerArray, integerArray2)))\n"
   ]
  },
  {
   "cell_type": "code",
   "execution_count": 12,
   "metadata": {},
   "outputs": [
    {
     "name": "stdout",
     "output_type": "stream",
     "text": [
      "[[1. 2. 3.]\n",
      " [4. 5. 6.]]\n"
     ]
    }
   ],
   "source": [
    "# Multidimensional array\n",
    "floatArray = np.array([[1,2,3], [4,5,6]], float)\n",
    "print(floatArray)\n"
   ]
  },
  {
   "cell_type": "code",
   "execution_count": 13,
   "metadata": {},
   "outputs": [
    {
     "name": "stdout",
     "output_type": "stream",
     "text": [
      "[[0 1]\n",
      " [2 3]\n",
      " [4 5]\n",
      " [6 7]\n",
      " [8 9]]\n"
     ]
    }
   ],
   "source": [
    "# Convert one dimensional to multidimensional arrays\n",
    "rangeArray = rangeArray.reshape(5, 2)\n",
    "print(rangeArray)"
   ]
  },
  {
   "cell_type": "code",
   "execution_count": 15,
   "metadata": {},
   "outputs": [
    {
     "name": "stdout",
     "output_type": "stream",
     "text": [
      "[0 1 2 3 4 5 6 7 8 9]\n"
     ]
    }
   ],
   "source": [
    "# Convert multidimensional to one dimensional array\n",
    "rangeArray = rangeArray.flatten()\n",
    "print(rangeArray)"
   ]
  },
  {
   "cell_type": "code",
   "execution_count": 16,
   "metadata": {},
   "outputs": [
    {
     "name": "stdout",
     "output_type": "stream",
     "text": [
      "array1: \n",
      "[[1 2]\n",
      " [3 4]]\n",
      "\n",
      "array2: \n",
      "[[5 6]\n",
      " [7 8]]\n"
     ]
    }
   ],
   "source": [
    "# Concatenation of multi-dimensional arrays\n",
    "arr1 = np.array([[1,2], [3,4]], int)\n",
    "arr2 = np.array([[5,6], [7,8]], int)\n",
    "print(f'array1: \\n{arr1}\\n')\n",
    "print(f'array2: \\n{arr2}')"
   ]
  },
  {
   "cell_type": "code",
   "execution_count": 18,
   "metadata": {},
   "outputs": [
    {
     "name": "stdout",
     "output_type": "stream",
     "text": [
      "[[1 2]\n",
      " [3 4]\n",
      " [5 6]\n",
      " [7 8]]\n"
     ]
    }
   ],
   "source": [
    "# Based on dimension 1\n",
    "print(np.concatenate((arr1, arr2), axis=0))"
   ]
  },
  {
   "cell_type": "code",
   "execution_count": 19,
   "metadata": {},
   "outputs": [
    {
     "name": "stdout",
     "output_type": "stream",
     "text": [
      "[[1 2 5 6]\n",
      " [3 4 7 8]]\n"
     ]
    }
   ],
   "source": [
    "# Based on dimension 2\n",
    "print(np.concatenate((arr1, arr2), axis=1))"
   ]
  },
  {
   "cell_type": "markdown",
   "metadata": {},
   "source": [
    "#### Universal Functions\n",
    "These functions are defined as functions that operate element-wise on the array elements whether it is a single or multidimensional array."
   ]
  },
  {
   "cell_type": "code",
   "execution_count": 21,
   "metadata": {},
   "outputs": [
    {
     "data": {
      "text/plain": [
       "array([ 4,  8, 12, 16])"
      ]
     },
     "execution_count": 21,
     "metadata": {},
     "output_type": "execute_result"
    }
   ],
   "source": [
    "#create numpy array from original python list\n",
    "my_numpy_arr = np.array(my_int_list)\n",
    "\n",
    "#multiply each element by 2\n",
    "my_numpy_arr * 2"
   ]
  },
  {
   "cell_type": "code",
   "execution_count": 22,
   "metadata": {},
   "outputs": [
    {
     "name": "stdout",
     "output_type": "stream",
     "text": [
      "Array 1 + Array 2\n",
      " [[ 6  8]\n",
      " [10 12]]\n",
      "\n",
      "Array 1 * Array 2\n",
      " [[ 5 12]\n",
      " [21 32]]\n",
      "\n",
      "Square root of Array 1\n",
      " [[1.         1.41421356]\n",
      " [1.73205081 2.        ]]\n",
      "\n",
      "Log of Array 1\n",
      " [[0.         0.69314718]\n",
      " [1.09861229 1.38629436]]\n",
      "\n"
     ]
    }
   ],
   "source": [
    "# Addition\n",
    "print(f\"Array 1 + Array 2\\n {arr1 + arr2}\\n\")\n",
    "\n",
    "# Multiplication\n",
    "print(f\"Array 1 * Array 2\\n {arr1 * arr2}\\n\")\n",
    "\n",
    "# Square root\n",
    "print(f\"Square root of Array 1\\n {np.sqrt(arr1)}\\n\")\n",
    "\n",
    "# Log\n",
    "print(f\"Log of Array 1\\n {np.log(arr1)}\\n\")"
   ]
  },
  {
   "cell_type": "markdown",
   "metadata": {},
   "source": [
    "#### Aggregation Functions\n",
    "These functions are useful when we wish to summarise the information contained in an array."
   ]
  },
  {
   "cell_type": "code",
   "execution_count": 23,
   "metadata": {},
   "outputs": [
    {
     "name": "stdout",
     "output_type": "stream",
     "text": [
      "Array 1: \n",
      "[[1 2 3]\n",
      " [4 5 6]\n",
      " [7 8 9]]\n",
      "\n",
      "Sum of elements of Array 1: 45\n",
      "\n",
      "Sum by row elements of Array 1: [ 6 15 24]\n",
      "\n",
      "Sum by column elements of Array 1: [12 15 18]\n",
      "\n"
     ]
    }
   ],
   "source": [
    "arr1 = np.arange(1,10).reshape(3,3)\n",
    "print(f'Array 1: \\n{arr1}\\n')\n",
    "\n",
    "print(f\"Sum of elements of Array 1: {arr1.sum()}\\n\")\n",
    "\n",
    "print(f\"Sum by row elements of Array 1: {np.sum(arr1, axis=1)}\\n\")\n",
    "\n",
    "print(f\"Sum by column elements of Array 1: {np.sum(arr1, axis=0)}\\n\")"
   ]
  },
  {
   "cell_type": "code",
   "execution_count": 24,
   "metadata": {},
   "outputs": [
    {
     "name": "stdout",
     "output_type": "stream",
     "text": [
      "Array 1: \n",
      "[[1 2 3]\n",
      " [4 5 6]\n",
      " [7 8 9]]\n",
      "\n",
      "Mean of elements of Array 1: 5.0\n",
      "\n",
      "Minimum of elements of Array 1: 1\n",
      "\n",
      "Index of minimum of elements of Array 1: 8\n"
     ]
    }
   ],
   "source": [
    "print(f'Array 1: \\n{arr1}\\n')\n",
    "\n",
    "# Mean of array elements\n",
    "print(f\"Mean of elements of Array 1: {arr1.mean()}\\n\")\n",
    "\n",
    "# Minimum of array elements\n",
    "print(f\"Minimum of elements of Array 1: {arr1.min()}\\n\")\n",
    "# Minimum of elements of Array 1: 1\n",
    "\n",
    "# Index of maximum of array elements can be found using arg before the funciton name\n",
    "print(f\"Index of minimum of elements of Array 1: {arr1.argmax()}\")"
   ]
  },
  {
   "cell_type": "markdown",
   "metadata": {},
   "source": [
    "#### Broadcasting\n",
    "These are a set of rules of how universal functions operate on numpy arrays."
   ]
  },
  {
   "cell_type": "code",
   "execution_count": 25,
   "metadata": {},
   "outputs": [
    {
     "name": "stdout",
     "output_type": "stream",
     "text": [
      "Sample Array\n",
      " [[5 2 3]\n",
      " [3 4 5]\n",
      " [1 1 1]]\n",
      "\n",
      "Unique values: [1 2 3 4 5]\n",
      "\n",
      "Diagonal\n",
      " [5 4 1]\n",
      "\n",
      "Sorted\n",
      " [[2 3 5]\n",
      " [3 4 5]\n",
      " [1 1 1]]\n",
      "\n"
     ]
    }
   ],
   "source": [
    "sampleArray = np.array([[5,2,3], [3,4,5], [1,1,1]], int)\n",
    "print(f\"Sample Array\\n {sampleArray}\\n\")\n",
    "\n",
    "# Get unqiue values\n",
    "print(f\"Unique values: {np.unique(sampleArray)}\\n\")\n",
    "# Unique values: [1 2 3 4 5]\n",
    "\n",
    "# Get diagonal values\n",
    "print(f\"Diagonal\\n {sampleArray.diagonal()}\\n\")\n",
    "# Diagonal\n",
    "#  [5 4 1]\n",
    "\n",
    "# Sort values in the multidimensional array\n",
    "print(f\"Sorted\\n {np.sort(sampleArray)}\\n\")"
   ]
  },
  {
   "cell_type": "code",
   "execution_count": 26,
   "metadata": {},
   "outputs": [
    {
     "name": "stdout",
     "output_type": "stream",
     "text": [
      "Dot of Matrix 1 and Matrix 2\n",
      " [[ 4  4  4]\n",
      " [10 10 10]\n",
      " [16 16 16]]\n",
      "\n",
      "Cross of Matrix 1 and Matrix 2\n",
      " [[-1  2 -1]\n",
      " [ 0  0  0]\n",
      " [-1  2 -1]]\n",
      "\n",
      "Outer of Matrix 1 and Matrix 2\n",
      " [[1 1 1 0 0 0 1 1 1]\n",
      " [2 2 2 0 0 0 2 2 2]\n",
      " [3 3 3 0 0 0 3 3 3]\n",
      " [4 4 4 0 0 0 4 4 4]\n",
      " [5 5 5 0 0 0 5 5 5]\n",
      " [6 6 6 0 0 0 6 6 6]\n",
      " [7 7 7 0 0 0 7 7 7]\n",
      " [8 8 8 0 0 0 8 8 8]\n",
      " [9 9 9 0 0 0 9 9 9]]\n",
      "\n",
      "Inner of Matrix 1 and Matrix 2\n",
      " [[ 6  0  6]\n",
      " [15  0 15]\n",
      " [24  0 24]]\n"
     ]
    }
   ],
   "source": [
    "vector = np.array([1,2,3,4], int)\n",
    "matrix1 = np.array([[1,2,3], [4,5,6], [7,8,9]], int)\n",
    "matrix2 = np.array([[1,1,1], [0,0,0], [1,1,1]], int)\n",
    "\n",
    "# Dot operator\n",
    "print(f\"Dot of Matrix 1 and Matrix 2\\n {np.dot(matrix1, matrix2)}\\n\")\n",
    "\n",
    "# Cross operator\n",
    "print(f\"Cross of Matrix 1 and Matrix 2\\n {np.cross(matrix1, matrix2)}\\n\")\n",
    "\n",
    "# Outer operator\n",
    "print(f\"Outer of Matrix 1 and Matrix 2\\n {np.outer(matrix1, matrix2)}\\n\")\n",
    "\n",
    "# Inner operator\n",
    "print(f\"Inner of Matrix 1 and Matrix 2\\n {np.inner(matrix1, matrix2)}\")"
   ]
  },
  {
   "cell_type": "markdown",
   "metadata": {},
   "source": [
    "#### Slicing, masking and fancy indexing\n",
    "The last strategy pools in a few tricks too"
   ]
  },
  {
   "cell_type": "code",
   "execution_count": 30,
   "metadata": {},
   "outputs": [
    {
     "name": "stdout",
     "output_type": "stream",
     "text": [
      "Array 1: \n",
      "[1 2 3 4]\n",
      "\n",
      "Array 2: \n",
      "[5 6 7 8]\n",
      "\n",
      "\n",
      "Array 1 > Array 2\n",
      "[False False False False]\n",
      "\n",
      "Array 1 == 2\n",
      " [False  True False False]\n",
      "\n"
     ]
    }
   ],
   "source": [
    "arr1 = np.array([1,2,3,4], int)\n",
    "arr2 = np.array([5,6,7,8], int)\n",
    "print(f'Array 1: \\n{arr1}\\n')\n",
    "print(f'Array 2: \\n{arr2}\\n\\n')\n",
    "\n",
    "# We can compare complete arrays of equal size element wise\n",
    "print(f\"Array 1 > Array 2\\n{arr1 > arr2}\\n\")\n",
    "\n",
    "# We can compare elements of an array with a given value\n",
    "print(f\"Array 1 == 2\\n {arr1 == 2}\\n\")"
   ]
  },
  {
   "cell_type": "code",
   "execution_count": 31,
   "metadata": {},
   "outputs": [
    {
     "name": "stdout",
     "output_type": "stream",
     "text": [
      "Array: [0 1 2 3 4 5 6 7 8 9]\n",
      "Array value from index 0 to 4: [0 1 2 3 4]\n",
      "Array values with mask as true: [0 1 2 7 8 9]\n",
      "Array values with index in list: [2 4 6]\n",
      "Array values with index in list: [7]\n"
     ]
    }
   ],
   "source": [
    "bigArray = np.array(range(10))\n",
    "print(\"Array: {}\".format(bigArray))\n",
    "\n",
    "# Slice array from index 0 to 4\n",
    "print(\"Array value from index 0 to 4: {}\".format(bigArray[:5]))\n",
    "\n",
    "# Masking using boolean values and operators\n",
    "mask = (bigArray > 6) | (bigArray < 3)\n",
    "print(\"Array values with mask as true: {}\".format(bigArray[mask]))\n",
    "\n",
    "# Fancy indexing\n",
    "ind = [2,4,6]\n",
    "print(\"Array values with index in list: {}\".format(bigArray[ind]))\n",
    "\n",
    "# Combine all three\n",
    "print(\"Array values with index in list: {}\".format(bigArray[bigArray > 6][:1]))\n"
   ]
  },
  {
   "cell_type": "markdown",
   "metadata": {},
   "source": [
    "### ¡Tu turno!\n",
    "[Ejercicios de NumPy](01_Ejercicios_numpy.ipynb)"
   ]
  }
 ],
 "metadata": {
  "celltoolbar": "Slideshow",
  "kernelspec": {
   "display_name": "Python 3",
   "language": "python",
   "name": "python3"
  },
  "language_info": {
   "codemirror_mode": {
    "name": "ipython",
    "version": 3
   },
   "file_extension": ".py",
   "mimetype": "text/x-python",
   "name": "python",
   "nbconvert_exporter": "python",
   "pygments_lexer": "ipython3",
   "version": "3.6.7"
  }
 },
 "nbformat": 4,
 "nbformat_minor": 2
}
