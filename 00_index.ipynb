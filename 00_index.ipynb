{
 "cells": [
  {
   "cell_type": "markdown",
   "metadata": {},
   "source": [
    "# Introducción al Machine Learning \n",
    "## con Python\n"
   ]
  },
  {
   "cell_type": "markdown",
   "metadata": {},
   "source": [
    "## Welcome!\n",
    "\n",
    "# Soy Alicia Pérez\n",
    "- Informática por la Complutense\n",
    "- Data Scientists en StyleSage\n",
    "- Coorganizadora en PyLadies Madrid\n",
    "- Colaboradora en programas de mentoring como Adalab, TechShessions\n",
    "- Organizadora de DjangoGirls Málaga\n",
    "\n",
    "@alipeji || apj.ali@gmail.com\n"
   ]
  },
  {
   "cell_type": "markdown",
   "metadata": {},
   "source": [
    "# Índice del curso\n",
    "- [Introducción a Python](01_intro_python.ipynb)\n",
    "    - Entornos virtuales y gestores de paquetes\n",
    "    - Jupyter notebooks\n",
    "    - Librerías relevantes: numpy, pandas\n",
    "    - Visualización y reporting: matplotlib, bokeh\n",
    "- Introducción al Machine Learning\n",
    "    - Selección de features y preprocesamiento de datos (normalización, computación de nulos, etc)\n",
    "    - Training and testing\n",
    "    - Cross validation\n",
    "    - Overfitting, underfitting and the bias-variance tradeoff\n",
    "- Aprendizaje supervisado\n",
    "    - Modelos de regresión\n",
    "    - Naive Bayes\n",
    "    - Support Vector Machines\n",
    "    - Árboles de decisión\n",
    "- Aprendizaje no supervisado\n",
    "    - PCA\n",
    "    - k-means\n"
   ]
  }
 ],
 "metadata": {
  "kernelspec": {
   "display_name": "Python 3",
   "language": "python",
   "name": "python3"
  },
  "language_info": {
   "codemirror_mode": {
    "name": "ipython",
    "version": 3
   },
   "file_extension": ".py",
   "mimetype": "text/x-python",
   "name": "python",
   "nbconvert_exporter": "python",
   "pygments_lexer": "ipython3",
   "version": "3.6.7"
  }
 },
 "nbformat": 4,
 "nbformat_minor": 2
}
