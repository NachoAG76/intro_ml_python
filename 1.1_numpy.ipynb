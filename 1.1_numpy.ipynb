{
 "cells": [
  {
   "cell_type": "markdown",
   "metadata": {},
   "source": [
    "## Instalación de numpy"
   ]
  },
  {
   "cell_type": "code",
   "execution_count": 2,
   "metadata": {},
   "outputs": [
    {
     "name": "stdout",
     "output_type": "stream",
     "text": [
      "\u001b[33mDEPRECATION: Python 2.7 will reach the end of its life on January 1st, 2020. Please upgrade your Python as Python 2.7 won't be maintained after that date. A future version of pip will drop support for Python 2.7.\u001b[0m\n",
      "Requirement already satisfied: numpy in /usr/lib/python2.7/dist-packages (1.11.0)\n"
     ]
    }
   ],
   "source": [
    "! pip install numpy"
   ]
  },
  {
   "cell_type": "code",
   "execution_count": 1,
   "metadata": {},
   "outputs": [
    {
     "ename": "ImportError",
     "evalue": "No module named 'numpy'",
     "output_type": "error",
     "traceback": [
      "\u001b[0;31m---------------------------------------------------------------------------\u001b[0m",
      "\u001b[0;31mImportError\u001b[0m                               Traceback (most recent call last)",
      "\u001b[0;32m<ipython-input-1-0aa0b027fcb6>\u001b[0m in \u001b[0;36m<module>\u001b[0;34m()\u001b[0m\n\u001b[0;32m----> 1\u001b[0;31m \u001b[0;32mimport\u001b[0m \u001b[0mnumpy\u001b[0m \u001b[0;32mas\u001b[0m \u001b[0mnp\u001b[0m\u001b[0;34m\u001b[0m\u001b[0m\n\u001b[0m",
      "\u001b[0;31mImportError\u001b[0m: No module named 'numpy'"
     ]
    }
   ],
   "source": [
    "import numpy as np"
   ]
  },
  {
   "cell_type": "markdown",
   "metadata": {},
   "source": [
    "### Array creation"
   ]
  },
  {
   "cell_type": "code",
   "execution_count": 62,
   "metadata": {},
   "outputs": [
    {
     "name": "stdout",
     "output_type": "stream",
     "text": [
      "[1 2 3 4]\n"
     ]
    }
   ],
   "source": [
    "my_int_list = [1, 2, 3, 4]\n",
    "\n",
    "#create numpy array from original python list\n",
    "my_numpy_arr = np.array(my_int_list)\n",
    "\n",
    "print(my_numpy_arr)"
   ]
  },
  {
   "cell_type": "code",
   "execution_count": 15,
   "metadata": {},
   "outputs": [
    {
     "name": "stdout",
     "output_type": "stream",
     "text": [
      "[0. 0. 0. 0. 0. 0. 0. 0. 0. 0.]\n",
      "[1 1 1 1 1 1 1 1 1 1]\n",
      "[0 1 2 3 4 5 6 7 8 9]\n"
     ]
    }
   ],
   "source": [
    "# Array of zeros\n",
    "print(np.zeros(10))\n",
    "\n",
    "# Array of ones with type int\n",
    "print(np.ones(10, dtype=int))\n",
    "\n",
    "# Range of numbers\n",
    "rangeArray = np.array(range(10), int)\n",
    "print(rangeArray)"
   ]
  },
  {
   "cell_type": "code",
   "execution_count": 59,
   "metadata": {},
   "outputs": [
    {
     "name": "stdout",
     "output_type": "stream",
     "text": [
      "Random array: [0.07425831 0.74360856 0.75177603 0.73179073 0.53670326]\n",
      "\n",
      "Random matrix:\n",
      " [[0.35910752 0.53842356 0.60889544 0.0575228 ]\n",
      " [0.15543763 0.87011567 0.626629   0.05722258]\n",
      " [0.03892795 0.36091934 0.72274847 0.76510031]\n",
      " [0.87757006 0.36726599 0.42859786 0.79400052]\n",
      " [0.90998289 0.4814481  0.67934322 0.28248923]]\n",
      "\n",
      "Random integer array: [8. 4. 3. 2. 3. 5. 1. 8. 3. 1.]\n",
      "\n",
      "Random matrix:\n",
      "[[6 3 0 0 6]\n",
      " [0 0 3 1 0]]\n",
      "\n"
     ]
    }
   ],
   "source": [
    "# Random array\n",
    "print(f\"Random array: {np.random.rand(5)}\\n\")\n",
    "\n",
    "# Random matrix\n",
    "print(f\"Random matrix:\\n {np.random.rand(5,4)}\\n\")\n",
    "\n",
    "# Random array of integers in a range (say 0-9)\n",
    "randomArray = np.floor(np.random.rand(10) * 10)\n",
    "print(f\"Random integer array: {randomArray}\\n\")\n",
    "\n",
    "# Futher simplification\n",
    "print(f\"Random matrix:\\n{np.random.randint(0, 10, (2,5))}\\n\")"
   ]
  },
  {
   "cell_type": "code",
   "execution_count": 13,
   "metadata": {},
   "outputs": [
    {
     "name": "stdout",
     "output_type": "stream",
     "text": [
      "[1 2 3 4 5 6]\n"
     ]
    }
   ],
   "source": [
    "integerArray = np.array([1,2,3,4], int)\n",
    "integerArray2 = np.array([5,6], int)\n",
    "\n",
    "# Concatenate two arrays\n",
    "print(np.concatenate((integerArray, integerArray2)))\n"
   ]
  },
  {
   "cell_type": "code",
   "execution_count": 16,
   "metadata": {},
   "outputs": [
    {
     "name": "stdout",
     "output_type": "stream",
     "text": [
      "[[1. 2. 3.]\n",
      " [4. 5. 6.]]\n"
     ]
    }
   ],
   "source": [
    "# Multidimensional array\n",
    "floatArray = np.array([[1,2,3], [4,5,6]], float)\n",
    "print(floatArray)\n"
   ]
  },
  {
   "cell_type": "code",
   "execution_count": 17,
   "metadata": {
    "scrolled": true
   },
   "outputs": [
    {
     "name": "stdout",
     "output_type": "stream",
     "text": [
      "[[0 1]\n",
      " [2 3]\n",
      " [4 5]\n",
      " [6 7]\n",
      " [8 9]]\n"
     ]
    }
   ],
   "source": [
    "# Convert one dimensional to multidimensional arrays\n",
    "rangeArray = rangeArray.reshape(5, 2)\n",
    "print(rangeArray)"
   ]
  },
  {
   "cell_type": "code",
   "execution_count": 18,
   "metadata": {},
   "outputs": [
    {
     "name": "stdout",
     "output_type": "stream",
     "text": [
      "[0 1 2 3 4 5 6 7 8 9]\n"
     ]
    }
   ],
   "source": [
    "# Convert multidimensional to one dimensional array\n",
    "rangeArray = rangeArray.flatten()\n",
    "print(rangeArray)"
   ]
  },
  {
   "cell_type": "code",
   "execution_count": 29,
   "metadata": {},
   "outputs": [
    {
     "name": "stdout",
     "output_type": "stream",
     "text": [
      "array1: \n",
      "[[1 2]\n",
      " [3 4]]\n",
      "\n",
      "array2: \n",
      "[[5 6]\n",
      " [7 8]]\n"
     ]
    }
   ],
   "source": [
    "# Concatenation of multi-dimensional arrays\n",
    "arr1 = np.array([[1,2], [3,4]], int)\n",
    "arr2 = np.array([[5,6], [7,8]], int)\n",
    "print(f'array1: \\n{arr1}\\n')\n",
    "print(f'array2: \\n{arr2}')"
   ]
  },
  {
   "cell_type": "code",
   "execution_count": 22,
   "metadata": {},
   "outputs": [
    {
     "name": "stdout",
     "output_type": "stream",
     "text": [
      "[[1 2]\n",
      " [3 4]\n",
      " [5 6]\n",
      " [7 8]]\n"
     ]
    }
   ],
   "source": [
    "# Based on dimension 1\n",
    "print(np.concatenate((arr1, arr2), axis=0))"
   ]
  },
  {
   "cell_type": "code",
   "execution_count": 30,
   "metadata": {},
   "outputs": [
    {
     "name": "stdout",
     "output_type": "stream",
     "text": [
      "[[1 2 5 6]\n",
      " [3 4 7 8]]\n"
     ]
    }
   ],
   "source": [
    "# Based on dimension 2\n",
    "print(np.concatenate((arr1, arr2), axis=1))"
   ]
  },
  {
   "cell_type": "markdown",
   "metadata": {},
   "source": [
    "### Universal Functions\n",
    "These functions are defined as functions that operate element-wise on the array elements whether it is a single or multidimensional array."
   ]
  },
  {
   "cell_type": "code",
   "execution_count": 6,
   "metadata": {},
   "outputs": [],
   "source": [
    "# we want to alter each element of the collection by multiplying each integer by 2\n"
   ]
  },
  {
   "cell_type": "code",
   "execution_count": 63,
   "metadata": {},
   "outputs": [
    {
     "data": {
      "text/plain": [
       "[2, 4, 6, 8]"
      ]
     },
     "execution_count": 63,
     "metadata": {},
     "output_type": "execute_result"
    }
   ],
   "source": [
    "my_int_list = [1, 2, 3, 4]\n",
    "\n",
    "# python code\n",
    "for i, val in enumerate(my_int_list):\n",
    "  my_int_list[i] *= 2\n",
    "\n",
    "my_int_list"
   ]
  },
  {
   "cell_type": "code",
   "execution_count": 4,
   "metadata": {},
   "outputs": [
    {
     "data": {
      "text/plain": [
       "array([ 4,  8, 12, 16])"
      ]
     },
     "execution_count": 4,
     "metadata": {},
     "output_type": "execute_result"
    }
   ],
   "source": [
    "#create numpy array from original python list\n",
    "my_numpy_arr = np.array(my_int_list)\n",
    "\n",
    "#multiply each element by 2\n",
    "my_numpy_arr * 2"
   ]
  },
  {
   "cell_type": "code",
   "execution_count": 37,
   "metadata": {},
   "outputs": [
    {
     "name": "stdout",
     "output_type": "stream",
     "text": [
      "Array 1 + Array 2\n",
      " [[ 6  8]\n",
      " [10 12]]\n",
      "\n",
      "Array 1 * Array 2\n",
      " [[ 5 12]\n",
      " [21 32]]\n",
      "\n",
      "Square root of Array 1\n",
      " [[1.         1.41421356]\n",
      " [1.73205081 2.        ]]\n",
      "\n",
      "Log of Array 1\n",
      " [[0.         0.69314718]\n",
      " [1.09861229 1.38629436]]\n",
      "\n"
     ]
    }
   ],
   "source": [
    "# Addition\n",
    "print(f\"Array 1 + Array 2\\n {arr1 + arr2}\\n\")\n",
    "\n",
    "# Multiplication\n",
    "print(f\"Array 1 * Array 2\\n {arr1 * arr2}\\n\")\n",
    "\n",
    "# Square root\n",
    "print(f\"Square root of Array 1\\n {np.sqrt(arr1)}\\n\")\n",
    "\n",
    "# Log\n",
    "print(f\"Log of Array 1\\n {np.log(arr1)}\\n\")"
   ]
  },
  {
   "cell_type": "markdown",
   "metadata": {},
   "source": [
    "https://towardsdatascience.com/numpy-python-made-efficient-f82a2d84b6f7"
   ]
  },
  {
   "cell_type": "markdown",
   "metadata": {},
   "source": [
    "### Aggregation Functions\n",
    "These functions are useful when we wish to summarise the information contained in an array."
   ]
  },
  {
   "cell_type": "code",
   "execution_count": 70,
   "metadata": {},
   "outputs": [
    {
     "name": "stdout",
     "output_type": "stream",
     "text": [
      "Array 1: \n",
      "[[1 2 3]\n",
      " [4 5 6]\n",
      " [7 8 9]]\n",
      "\n",
      "Sum of elements of Array 1: 45\n",
      "\n",
      "Sum by row elements of Array 1: [ 6 15 24]\n",
      "\n",
      "Sum by column elements of Array 1: [12 15 18]\n",
      "\n"
     ]
    }
   ],
   "source": [
    "arr1 = np.arange(1,10).reshape(3,3)\n",
    "print(f'Array 1: \\n{arr1}\\n')\n",
    "\n",
    "print(f\"Sum of elements of Array 1: {arr1.sum()}\\n\")\n",
    "\n",
    "print(f\"Sum by row elements of Array 1: {np.sum(arr1, axis=1)}\\n\")\n",
    "\n",
    "print(f\"Sum by column elements of Array 1: {np.sum(arr1, axis=0)}\\n\")"
   ]
  },
  {
   "cell_type": "code",
   "execution_count": 71,
   "metadata": {},
   "outputs": [
    {
     "name": "stdout",
     "output_type": "stream",
     "text": [
      "Array 1: \n",
      "[[1 2 3]\n",
      " [4 5 6]\n",
      " [7 8 9]]\n",
      "\n",
      "Mean of elements of Array 1: 5.0\n",
      "\n",
      "Minimum of elements of Array 1: 1\n",
      "\n",
      "Index of minimum of elements of Array 1: 8\n"
     ]
    }
   ],
   "source": [
    "print(f'Array 1: \\n{arr1}\\n')\n",
    "\n",
    "# Mean of array elements\n",
    "print(f\"Mean of elements of Array 1: {arr1.mean()}\\n\")\n",
    "\n",
    "# Minimum of array elements\n",
    "print(f\"Minimum of elements of Array 1: {arr1.min()}\\n\")\n",
    "# Minimum of elements of Array 1: 1\n",
    "\n",
    "# Index of maximum of array elements can be found using arg before the funciton name\n",
    "print(f\"Index of minimum of elements of Array 1: {arr1.argmax()}\")"
   ]
  },
  {
   "cell_type": "markdown",
   "metadata": {},
   "source": [
    "### Broadcasting\n",
    "These are a set of rules of how universal functions operate on numpy arrays."
   ]
  },
  {
   "cell_type": "code",
   "execution_count": 46,
   "metadata": {},
   "outputs": [
    {
     "name": "stdout",
     "output_type": "stream",
     "text": [
      "Sample Array\n",
      " [[5 2 3]\n",
      " [3 4 5]\n",
      " [1 1 1]]\n",
      "\n",
      "Unique values: [1 2 3 4 5]\n",
      "\n",
      "Diagonal\n",
      " [5 4 1]\n",
      "\n",
      "Sorted\n",
      " [[2 3 5]\n",
      " [3 4 5]\n",
      " [1 1 1]]\n",
      "\n"
     ]
    }
   ],
   "source": [
    "sampleArray = np.array([[5,2,3], [3,4,5], [1,1,1]], int)\n",
    "print(f\"Sample Array\\n {sampleArray}\\n\")\n",
    "\n",
    "# Get unqiue values\n",
    "print(f\"Unique values: {np.unique(sampleArray)}\\n\")\n",
    "# Unique values: [1 2 3 4 5]\n",
    "\n",
    "# Get diagonal values\n",
    "print(f\"Diagonal\\n {sampleArray.diagonal()}\\n\")\n",
    "# Diagonal\n",
    "#  [5 4 1]\n",
    "\n",
    "# Sort values in the multidimensional array\n",
    "print(f\"Sorted\\n {np.sort(sampleArray)}\\n\")"
   ]
  },
  {
   "cell_type": "code",
   "execution_count": 56,
   "metadata": {},
   "outputs": [
    {
     "name": "stdout",
     "output_type": "stream",
     "text": [
      "Dot of Matrix 1 and Matrix 2\n",
      " [[ 4  4  4]\n",
      " [10 10 10]\n",
      " [16 16 16]]\n",
      "\n",
      "Cross of Matrix 1 and Matrix 2\n",
      " [[-1  2 -1]\n",
      " [ 0  0  0]\n",
      " [-1  2 -1]]\n",
      "\n",
      "Outer of Matrix 1 and Matrix 2\n",
      " [[1 1 1 0 0 0 1 1 1]\n",
      " [2 2 2 0 0 0 2 2 2]\n",
      " [3 3 3 0 0 0 3 3 3]\n",
      " [4 4 4 0 0 0 4 4 4]\n",
      " [5 5 5 0 0 0 5 5 5]\n",
      " [6 6 6 0 0 0 6 6 6]\n",
      " [7 7 7 0 0 0 7 7 7]\n",
      " [8 8 8 0 0 0 8 8 8]\n",
      " [9 9 9 0 0 0 9 9 9]]\n",
      "\n",
      "Inner of Matrix 1 and Matrix 2\n",
      " [[ 6  0  6]\n",
      " [15  0 15]\n",
      " [24  0 24]]\n"
     ]
    }
   ],
   "source": [
    "vector = np.array([1,2,3,4], int)\n",
    "matrix1 = np.array([[1,2,3], [4,5,6], [7,8,9]], int)\n",
    "matrix2 = np.array([[1,1,1], [0,0,0], [1,1,1]], int)\n",
    "\n",
    "# Dot operator\n",
    "print(f\"Dot of Matrix 1 and Matrix 2\\n {np.dot(matrix1, matrix2)}\\n\")\n",
    "\n",
    "# Cross operator\n",
    "print(f\"Cross of Matrix 1 and Matrix 2\\n {np.cross(matrix1, matrix2)}\\n\")\n",
    "\n",
    "# Outer operator\n",
    "print(f\"Outer of Matrix 1 and Matrix 2\\n {np.outer(matrix1, matrix2)}\\n\")\n",
    "\n",
    "# Inner operator\n",
    "print(f\"Inner of Matrix 1 and Matrix 2\\n {np.inner(matrix1, matrix2)}\")"
   ]
  },
  {
   "cell_type": "markdown",
   "metadata": {},
   "source": [
    "### Slicing, masking and fancy indexing\n",
    "The last strategy pools in a few tricks too"
   ]
  },
  {
   "cell_type": "code",
   "execution_count": 52,
   "metadata": {},
   "outputs": [
    {
     "name": "stdout",
     "output_type": "stream",
     "text": [
      "Array 1: \n",
      "[[1 2]\n",
      " [3 4]]\n",
      "\n",
      "Array 2: \n",
      "[[5 6]\n",
      " [7 8]]\n",
      "\n",
      "\n",
      "Array 1 > Array 2\n",
      "[[False False]\n",
      " [False False]]\n",
      "\n",
      "Array 1 == 2\n",
      " [[False  True]\n",
      " [False False]]\n",
      "\n"
     ]
    }
   ],
   "source": [
    "print(f'Array 1: \\n{arr1}\\n')\n",
    "print(f'Array 2: \\n{arr2}\\n\\n')\n",
    "\n",
    "# We can compare complete arrays of equal size element wise\n",
    "print(f\"Array 1 > Array 2\\n{arr1 > arr2}\\n\")\n",
    "\n",
    "# We can compare elements of an array with a given value\n",
    "print(f\"Array 1 == 2\\n {arr1 == 2}\\n\")\n"
   ]
  },
  {
   "cell_type": "code",
   "execution_count": 64,
   "metadata": {},
   "outputs": [
    {
     "name": "stdout",
     "output_type": "stream",
     "text": [
      "Array: [0 1 2 3 4 5 6 7 8 9]\n",
      "Array value from index 0 to 4: [0 1 2 3 4]\n",
      "Array values with mask as true: [0 1 2 7 8 9]\n",
      "Array values with index in list: [2 4 6]\n",
      "Array values with index in list: [7]\n"
     ]
    }
   ],
   "source": [
    "bigArray = np.array(range(10))\n",
    "print(\"Array: {}\".format(bigArray))\n",
    "\n",
    "# Slice array from index 0 to 4\n",
    "print(\"Array value from index 0 to 4: {}\".format(bigArray[:5]))\n",
    "\n",
    "# Masking using boolean values and operators\n",
    "mask = (bigArray > 6) | (bigArray < 3)\n",
    "print(\"Array values with mask as true: {}\".format(bigArray[mask]))\n",
    "\n",
    "# Fancy indexing\n",
    "ind = [2,4,6]\n",
    "print(\"Array values with index in list: {}\".format(bigArray[ind]))\n",
    "\n",
    "# Combine all three\n",
    "print(\"Array values with index in list: {}\".format(bigArray[bigArray > 6][:1]))\n"
   ]
  },
  {
   "cell_type": "markdown",
   "metadata": {},
   "source": [
    "<img src=\"https://cdn-images-1.medium.com/max/800/1*cxbe7Omfj6Be0fbvD7gmGQ.png\">"
   ]
  },
  {
   "cell_type": "markdown",
   "metadata": {},
   "source": [
    "<img src=\"https://cdn-images-1.medium.com/max/800/1*9FImAfjF6Z6Hyv9lm1WgjA.png\">"
   ]
  },
  {
   "cell_type": "markdown",
   "metadata": {},
   "source": [
    "https://medium.com/@zachary.bedell/writing-beautiful-code-with-numpy-505f3b353174"
   ]
  },
  {
   "cell_type": "code",
   "execution_count": 7,
   "metadata": {},
   "outputs": [
    {
     "name": "stdout",
     "output_type": "stream",
     "text": [
      "execution time without NumPy:  6.498827695846558\n"
     ]
    }
   ],
   "source": [
    "# multiplying two matrices containing 60,000 and 80,000 integers\n",
    "import time\n",
    "import random as r\n",
    "\n",
    "\n",
    "tick = time.time()\n",
    "#create a 300x200 matrix of 60,000 random integers\n",
    "my_list_1 = []\n",
    "for row_index in range(300):\n",
    "    new_row = []\n",
    "    for col_index in range(200):\n",
    "        new_row.append(r.randint(0, 20))\n",
    "    my_list_1.append(new_row)\n",
    "#create a 200x400 matrix of 80,000 random integers\n",
    "my_list_2 = []\n",
    "for row_index in range(200):\n",
    "    new_row = []\n",
    "    for col_index in range(400):\n",
    "        new_row.append(r.randint(0, 20))\n",
    "    my_list_2.append(new_row)\n",
    "\n",
    "#create 2X3 array to hold results\n",
    "my_result_arr = []\n",
    "for row_index in range(300):\n",
    "    new_row = []\n",
    "    for col_index in range(400):\n",
    "        new_row.append(0)\n",
    "    my_result_arr.append(new_row)\n",
    "\n",
    "# iterate through rows of my_list_1\n",
    "for i in range(len(my_list_1)):\n",
    "   # iterate through columns of my_list_2\n",
    "   for j in range(len(my_list_2[0])):\n",
    "       # iterate through rows of my_list_2\n",
    "       for k in range(len(my_list_2)):\n",
    "           my_result_arr[i][j] += my_list_1[i][k] * my_list_2[k][j]\n",
    "\n",
    "time_to_completion = time.time() - tick\n",
    "\n",
    "print(\"execution time without NumPy: \", time_to_completion)"
   ]
  },
  {
   "cell_type": "markdown",
   "metadata": {},
   "source": [
    "The code is difficult to read, and the solution requires double and triple nested loops, each of which have high time complexities of O(n²) and O(n³)."
   ]
  },
  {
   "cell_type": "code",
   "execution_count": 8,
   "metadata": {},
   "outputs": [
    {
     "name": "stdout",
     "output_type": "stream",
     "text": [
      "execution time with NumPy:  0.03241872787475586\n"
     ]
    }
   ],
   "source": [
    "import time\n",
    "tick = time.time()\n",
    "np_arr_1 = np.arange(0, 60000).reshape(300, 200)\n",
    "np_arr_2 = np.arange(0, 80000).reshape(200, 400)\n",
    "\n",
    "my_result_arr = np.matmul(np_arr_1, np_arr_2)\n",
    "time_to_completion = time.time() - tick\n",
    "\n",
    "print(\"execution time with NumPy: \", time_to_completion)"
   ]
  },
  {
   "cell_type": "markdown",
   "metadata": {},
   "source": [
    "### How do I find the difference between adjacent elements?\n",
    "https://hackernoon.com/introduction-to-numpy-2-an-absolute-beginners-guide-to-machine-learning-and-data-science-967b21e3542a"
   ]
  },
  {
   "cell_type": "code",
   "execution_count": 74,
   "metadata": {},
   "outputs": [],
   "source": [
    "arr1 = np.array([  5,   7,   9,  11,  13,  19,   3,  55,  34, 553])"
   ]
  },
  {
   "cell_type": "markdown",
   "metadata": {},
   "source": [
    "how do I find (7–5), (9–7), (11–9)? Or In other words, how do I find A[n+1]-A[n] continuously?"
   ]
  },
  {
   "cell_type": "code",
   "execution_count": 76,
   "metadata": {},
   "outputs": [
    {
     "name": "stdout",
     "output_type": "stream",
     "text": [
      "Diff between adjacent elements:\n",
      "[  2   2   2   2   6 -16  52 -21 519]\n"
     ]
    }
   ],
   "source": [
    "print(f'Diff between adjacent elements:\\n{np.diff(arr1,n=1)}')"
   ]
  }
 ],
 "metadata": {
  "kernelspec": {
   "display_name": "Python 3",
   "language": "python",
   "name": "python3"
  },
  "language_info": {
   "codemirror_mode": {
    "name": "ipython",
    "version": 3
   },
   "file_extension": ".py",
   "mimetype": "text/x-python",
   "name": "python",
   "nbconvert_exporter": "python",
   "pygments_lexer": "ipython3",
   "version": "3.6.7"
  }
 },
 "nbformat": 4,
 "nbformat_minor": 2
}
