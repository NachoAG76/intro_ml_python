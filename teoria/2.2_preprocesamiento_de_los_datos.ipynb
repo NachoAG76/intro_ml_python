{
 "cells": [
  {
   "cell_type": "markdown",
   "metadata": {
    "slideshow": {
     "slide_type": "slide"
    }
   },
   "source": [
    "## Flujo de trabajo de un proyecto de Machine Learning\n",
    "\n",
    "# Preprocesamiento de los datos\n"
   ]
  },
  {
   "cell_type": "markdown",
   "metadata": {
    "slideshow": {
     "slide_type": "subslide"
    }
   },
   "source": [
    "_En Machine Learning, hay una regla de 80/20. Cada data scientist suele dedicar un 80% de tiempo al preprocesamiento de datos y un 20% a realizar el análisis_"
   ]
  },
  {
   "cell_type": "markdown",
   "metadata": {
    "slideshow": {
     "slide_type": "subslide"
    }
   },
   "source": [
    "Los problemas más comunes a resolver en el preprocesamiento de datos son:\n",
    "1. Valores nulos\n",
    "2. Valores atípicos\n",
    "3. Distintos órdenes de magnitud\n",
    "4. Selección de variables"
   ]
  },
  {
   "cell_type": "markdown",
   "metadata": {
    "slideshow": {
     "slide_type": "slide"
    }
   },
   "source": [
    "## 1. Valores nulos"
   ]
  },
  {
   "cell_type": "markdown",
   "metadata": {
    "slideshow": {
     "slide_type": "subslide"
    }
   },
   "source": [
    "### Tipos de valores nulos\n",
    "\n",
    "Los datos faltantes se clasifican en tres categorías usando una terminología que puede confundir pero que está relacionada con la manera en que se aconseja o se puede enfrentar su ausencia.\n",
    "\n",
    "1. **Missing completely at random (MCAR)**: el hecho que falte una observación no está relacionado con el o los valores faltantes ni con los valores existentes. Otra manera de pensarlo es que cualquier valor tiene la misma probabilidad de faltar que cualquier otro. Por ejemplo, fallos en el equipamiento de medida, fallos humanos o que el mal tiempo haga que el equipo no funcione"
   ]
  },
  {
   "cell_type": "markdown",
   "metadata": {
    "slideshow": {
     "slide_type": "subslide"
    }
   },
   "source": [
    "2. **Missing at random (MAR)**: una o varias características registradas pueden explicar la distribución de los datos faltantes. Por ejemplo: que las personas con depresión puedan tener más reparos a revelar sus ingresos por creer que son más pequeños (aunque no lo sean en realidad y no afecten a la media)\n",
    "\n",
    "\n",
    "3. **Missing not at random (MNAR)**: los datos faltantes probablemente dependen o están relacionados con datos no observados. Por ejemplo: que lersonas con enfermedad mental no informen de su “estado mental” (lo cual afecta a la distribución de esta variable)"
   ]
  },
  {
   "cell_type": "markdown",
   "metadata": {
    "slideshow": {
     "slide_type": "skip"
    }
   },
   "source": [
    "[Ref](http://revistachilenadeanestesia.cl/datos-faltantes-missing-values/)"
   ]
  },
  {
   "cell_type": "markdown",
   "metadata": {
    "slideshow": {
     "slide_type": "subslide"
    }
   },
   "source": [
    "### Trabajar con datos nulos"
   ]
  },
  {
   "cell_type": "code",
   "execution_count": 1,
   "metadata": {
    "slideshow": {
     "slide_type": "-"
    }
   },
   "outputs": [
    {
     "name": "stdout",
     "output_type": "stream",
     "text": [
      "     a    b     c\n",
      "0  NaN  1.0  54.0\n",
      "1  3.0  3.0   NaN\n",
      "2  NaN  4.0   NaN\n",
      "3  5.0  3.0  32.0\n",
      "4  6.0  NaN  21.0\n"
     ]
    }
   ],
   "source": [
    "import pandas as pd\n",
    "\n",
    "df = pd.DataFrame({'a':[None, 3, None, 5, 6], 'b':[1, 3, 4, 3, None], 'c':[54, None, None, 32, 21]})\n",
    "print(df)"
   ]
  },
  {
   "cell_type": "markdown",
   "metadata": {
    "slideshow": {
     "slide_type": "subslide"
    }
   },
   "source": [
    "**Reconocer los valores nulos**\n",
    "\n",
    "Con `isnull` obtenemos una tabla booleana con `True` si el valor es un `NaN` o `False` si no lo es."
   ]
  },
  {
   "cell_type": "code",
   "execution_count": 2,
   "metadata": {
    "slideshow": {
     "slide_type": "-"
    }
   },
   "outputs": [
    {
     "name": "stdout",
     "output_type": "stream",
     "text": [
      "       a      b      c\n",
      "0   True  False  False\n",
      "1  False  False   True\n",
      "2   True  False   True\n",
      "3  False  False  False\n",
      "4  False   True  False\n"
     ]
    }
   ],
   "source": [
    "df_bool = pd.isnull(df)\n",
    "print(df_bool)"
   ]
  },
  {
   "cell_type": "markdown",
   "metadata": {
    "slideshow": {
     "slide_type": "subslide"
    }
   },
   "source": [
    "**Eliminación de registros**\n",
    "\n",
    "- Es la más sencilla de todas y puede ser la más eficaz si disponemos de una cantidad importante de datos\n",
    "- Pandas proporciona la función `dropna()` para eliminar columnas o filas con datos faltantes."
   ]
  },
  {
   "cell_type": "code",
   "execution_count": 3,
   "metadata": {
    "slideshow": {
     "slide_type": "-"
    }
   },
   "outputs": [
    {
     "name": "stdout",
     "output_type": "stream",
     "text": [
      "     a    b     c\n",
      "3  5.0  3.0  32.0\n"
     ]
    }
   ],
   "source": [
    "df_sin_nan = df.dropna()\n",
    "print(df_sin_nan)"
   ]
  },
  {
   "cell_type": "markdown",
   "metadata": {
    "slideshow": {
     "slide_type": "subslide"
    }
   },
   "source": [
    "**Imputación simple**\n",
    "\n",
    "- Generando valores aleatorios para cada variable\n",
    "- Ordenando los datos de acuerdo a alguna variable y usando el valor de una celda adyacente (hot-deck)\n",
    "- Realizando el mismo proceso pero con datos de otro dataset (cold-deck)\n",
    "- Reemplazo a la media\n",
    "- Reemplazo con regresión a partir de otras variables\n",
    "- Reemplazo estocástico (regresión + desviación típica)\n",
    "\n",
    "Pandas proporciona la función `fillna()` para reemplazar valores perdidos con un valor específico."
   ]
  },
  {
   "cell_type": "code",
   "execution_count": 4,
   "metadata": {
    "slideshow": {
     "slide_type": "subslide"
    }
   },
   "outputs": [
    {
     "name": "stdout",
     "output_type": "stream",
     "text": [
      "     a    b     c\n",
      "0  NaN  1.0  54.0\n",
      "1  3.0  3.0   NaN\n",
      "2  NaN  4.0   NaN\n",
      "3  5.0  3.0  32.0\n",
      "4  6.0  NaN  21.0\n",
      "\n",
      "     a    b     c\n",
      "0  3.0  1.0  54.0\n",
      "1  3.0  3.0   3.0\n",
      "2  3.0  4.0   3.0\n",
      "3  5.0  3.0  32.0\n",
      "4  6.0  3.0  21.0\n"
     ]
    }
   ],
   "source": [
    "# reemplaza todos los NaN por 3\n",
    "df_nuevo = df.fillna(value=3)\n",
    "print(f'{df}\\n\\n{df_nuevo}')"
   ]
  },
  {
   "cell_type": "code",
   "execution_count": 5,
   "metadata": {
    "slideshow": {
     "slide_type": "subslide"
    }
   },
   "outputs": [
    {
     "name": "stdout",
     "output_type": "stream",
     "text": [
      "     a    b     c\n",
      "0  NaN  1.0  54.0\n",
      "1  3.0  3.0   NaN\n",
      "2  NaN  4.0   NaN\n",
      "3  5.0  3.0  32.0\n",
      "4  6.0  NaN  21.0\n",
      "\n",
      "          a     b          c\n",
      "0  4.666667  1.00  54.000000\n",
      "1  3.000000  3.00  35.666667\n",
      "2  4.666667  4.00  35.666667\n",
      "3  5.000000  3.00  32.000000\n",
      "4  6.000000  2.75  21.000000\n"
     ]
    }
   ],
   "source": [
    "# Reemplaza los NaN con el valor promedio de cada columna:\n",
    "df_nuevo = df.fillna(df.mean())\n",
    "print(f'{df}\\n\\n{df_nuevo}')"
   ]
  },
  {
   "cell_type": "code",
   "execution_count": 6,
   "metadata": {
    "slideshow": {
     "slide_type": "subslide"
    }
   },
   "outputs": [
    {
     "name": "stdout",
     "output_type": "stream",
     "text": [
      "     a    b     c\n",
      "0  NaN  1.0  54.0\n",
      "1  3.0  3.0   NaN\n",
      "2  NaN  4.0   NaN\n",
      "3  5.0  3.0  32.0\n",
      "4  6.0  NaN  21.0\n",
      "\n",
      "     a    b     c\n",
      "0  3.0  1.0  54.0\n",
      "1  3.0  3.0  32.0\n",
      "2  5.0  4.0  32.0\n",
      "3  5.0  3.0  32.0\n",
      "4  6.0  NaN  21.0\n"
     ]
    }
   ],
   "source": [
    "# Reemplaza los NaN con el valor anterior o posterior del NaN: \n",
    "# - 'pad' para reemplazarlo con el valor anterior \n",
    "# - 'bfill' con el posterior. \n",
    "df_nuevo = df.fillna(method='bfill')\n",
    "print(f'{df}\\n\\n{df_nuevo}')"
   ]
  },
  {
   "cell_type": "code",
   "execution_count": 7,
   "metadata": {
    "slideshow": {
     "slide_type": "subslide"
    }
   },
   "outputs": [
    {
     "name": "stdout",
     "output_type": "stream",
     "text": [
      "     a    b     c\n",
      "0  NaN  1.0  54.0\n",
      "1  3.0  3.0   NaN\n",
      "2  NaN  4.0   NaN\n",
      "3  5.0  3.0  32.0\n",
      "4  6.0  NaN  21.0\n",
      "\n",
      "     a    b          c\n",
      "0  NaN  1.0  54.000000\n",
      "1  3.0  3.0  46.666667\n",
      "2  4.0  4.0  39.333333\n",
      "3  5.0  3.0  32.000000\n",
      "4  6.0  3.0  21.000000\n"
     ]
    }
   ],
   "source": [
    "# Reemplazar los NaN interpolando con el resto de datos conocidos:\n",
    "df_nuevo = df.interpolate(method='linear')\n",
    "print(f'{df}\\n\\n{df_nuevo}')"
   ]
  },
  {
   "cell_type": "code",
   "execution_count": 8,
   "metadata": {
    "slideshow": {
     "slide_type": "subslide"
    }
   },
   "outputs": [
    {
     "name": "stdout",
     "output_type": "stream",
     "text": [
      "     a    b     c\n",
      "0  NaN  1.0  54.0\n",
      "1  3.0  3.0   NaN\n",
      "2  NaN  4.0   NaN\n",
      "3  5.0  3.0  32.0\n",
      "4  6.0  NaN  21.0\n",
      "\n",
      "[[ 3.  1. 54.]\n",
      " [ 3.  3. 21.]\n",
      " [ 3.  4. 21.]\n",
      " [ 5.  3. 32.]\n",
      " [ 6.  3. 21.]]\n"
     ]
    }
   ],
   "source": [
    "from sklearn.impute import SimpleImputer\n",
    "import numpy as np\n",
    "\n",
    "imp = SimpleImputer(strategy='most_frequent')\n",
    "df_nuevo = imp.fit_transform(df)\n",
    "print(f'{df}\\n\\n{df_nuevo}')"
   ]
  },
  {
   "cell_type": "markdown",
   "metadata": {
    "slideshow": {
     "slide_type": "subslide"
    }
   },
   "source": [
    "Otros métodos de interpolación de `SimpleImputer`: \n",
    "\n",
    "`linear`, `time`, `index`, `values`, `nearest`, `zero`, `slinear`, `quadratic`, `cubic`, `barycentric`, `krogh`, `polynomial`, `spline` `piecewise_polynomial`, `pchip`."
   ]
  },
  {
   "cell_type": "markdown",
   "metadata": {
    "slideshow": {
     "slide_type": "subslide"
    }
   },
   "source": [
    "**Imputación múltiple**\n",
    "  - Intenta mejorar la imputación única minimizando el error cometido por la regresión\n",
    "  - Múltiples imputaciones simultáneas\n",
    "  - Agregación de los resultados\n",
    "      - Ejecutando nuestro modelo de aprendizaje m veces y agregando los resultados (bagging)\n",
    "      - Muestreando de cada imputación 1/m registros para formar un dataset de tamaño m\n",
    "      - Agregando las m imputaciones calculando la media de los valores imputados"
   ]
  },
  {
   "cell_type": "markdown",
   "metadata": {
    "slideshow": {
     "slide_type": "subslide"
    }
   },
   "source": [
    "### Ejercicios\n",
    "- [Boston housing](ejercicios/boston_housing-missing_values.ipynb)\n",
    "- [Diabetes](ejercicios/boston_housing-missing_values.ipynb)\n",
    "- https://machinelearningmastery.com/handle-missing-data-python/"
   ]
  },
  {
   "cell_type": "markdown",
   "metadata": {
    "slideshow": {
     "slide_type": "slide"
    }
   },
   "source": [
    "## 2. Valores atípicos (outliers)\n",
    "\n",
    "Un valor atípico (outlier) es un valor de una variable muy distante a otras observaciones de la misma variable\n",
    "Puede tener múltiples causas\n",
    "- Errores en los instrumentos de medida\n",
    "- Picos aleatorios en una variable\n",
    "- La distribución tiene una cola muy “pesada” (heavily-tailed distribution)\n",
    "    - Cuidado con hacer asunciones sobre la normalidad de la distribución\n",
    "\n",
    "Pueden afectar negativamente a la calidad de los modelos obtenidos"
   ]
  },
  {
   "cell_type": "markdown",
   "metadata": {
    "slideshow": {
     "slide_type": "subslide"
    }
   },
   "source": [
    "### Cómo detectarlos\n",
    "\n",
    "- **Z-score**: Es una forma de describir un dato en función de su relación con la media y la desviación estándar del conjunto de datos. \n"
   ]
  },
  {
   "cell_type": "code",
   "execution_count": 9,
   "metadata": {
    "slideshow": {
     "slide_type": "subslide"
    }
   },
   "outputs": [
    {
     "data": {
      "text/plain": [
       "40"
      ]
     },
     "execution_count": 9,
     "metadata": {},
     "output_type": "execute_result"
    }
   ],
   "source": [
    "import numpy as np\n",
    "import pandas as pd\n",
    "\n",
    "dataset= [10, 12, 12, 13, 12, 11, 14, 13, 15, 10, 10, 10, 100, 12, 14, 13, 12, 13, 18, 150,\n",
    "          10, 10, 11, 12, 15, 12, 13, 12, 11, 14, 13, 15, 10, 15, 12, 10, 14, 13, 15 ,10]\n",
    "len(dataset)"
   ]
  },
  {
   "cell_type": "code",
   "execution_count": 10,
   "metadata": {
    "slideshow": {
     "slide_type": "subslide"
    }
   },
   "outputs": [
    {
     "name": "stdout",
     "output_type": "stream",
     "text": [
      "[100, 150]\n"
     ]
    }
   ],
   "source": [
    "outliers=[]\n",
    "\n",
    "threshold = 3\n",
    "mean_1 = np.mean(dataset)\n",
    "std_1 =np.std(dataset)\n",
    "\n",
    "for y in dataset:\n",
    "    z_score= (y - mean_1)/std_1 \n",
    "    if np.abs(z_score) > threshold:\n",
    "        outliers.append(y)\n",
    "\n",
    "print(outliers)"
   ]
  },
  {
   "cell_type": "markdown",
   "metadata": {
    "slideshow": {
     "slide_type": "subslide"
    }
   },
   "source": [
    "- **IQR - Recorrido inter-cuartílico**: IQR indica cómo se distribuyen los valores medios. Se puede usar para saber cuándo un valor está demasiado lejos del medio."
   ]
  },
  {
   "cell_type": "code",
   "execution_count": 11,
   "metadata": {
    "slideshow": {
     "slide_type": "-"
    }
   },
   "outputs": [
    {
     "name": "stdout",
     "output_type": "stream",
     "text": [
      "Cuartil 1: 11.0 -- Cuartil 3: 14.0\n",
      "IQR: 3.0\n",
      "Lower bound: -5.5 -- Upper bound: 35.0\n"
     ]
    }
   ],
   "source": [
    "q1, q3= np.percentile(dataset,[25,75])\n",
    "print(f'Cuartil 1: {q1} -- Cuartil 3: {q3}')\n",
    "\n",
    "iqr = q3 - q1\n",
    "print(f'IQR: {iqr}')\n",
    "\n",
    "lower_bound = q1 - (1.5 * q1)\n",
    "upper_bound = q3 + (1.5 * q3)\n",
    "print(f'Lower bound: {lower_bound} -- Upper bound: {upper_bound}')"
   ]
  },
  {
   "cell_type": "markdown",
   "metadata": {
    "slideshow": {
     "slide_type": "skip"
    }
   },
   "source": [
    "[Ref](https://medium.com/datadriveninvestor/finding-outliers-in-dataset-using-python-efc3fce6ce32)"
   ]
  },
  {
   "cell_type": "markdown",
   "metadata": {
    "slideshow": {
     "slide_type": "subslide"
    }
   },
   "source": [
    "### Cómo tratarlos\n",
    "\n",
    "- __Mantenerlos__ y usar un estadístico robusto frente a valores atípicos (la mediana, por ejemplo)\n",
    "    - No siempre es posible\n",
    "- __Eliminarlos__: si el dataset es suficientemente grande, puede ser una opción razonable\n",
    "    - Distribución normal: usar medidas como\n",
    "        - 1.5 * IQR: recorrido intercuartílico (boxplot)\n",
    "        - Seis sigma: ±3 veces la desviación típica (o desviación absoluta de la mediana)\n",
    "        - Problema de regresión: distancia de Cook (influencia de una medida en una variable del modelo)\n",
    "    - Trimming: eliminar el x% de los datos en ambos extremos"
   ]
  },
  {
   "cell_type": "markdown",
   "metadata": {
    "slideshow": {
     "slide_type": "subslide"
    }
   },
   "source": [
    "- __Transformarlos__\n",
    "    - “Winsorización”: parecido al trimming pero, en lugar de eliminar los valores, los transformamos en los límites de valores admitidos en los percentiles considerados\n",
    "    - Reemplazo de outliers por NaNs e imputación de valores nulos\n",
    "- __Examen visual__\n",
    "    - Si los datos son pocos, podemos representarlos gráficamente y tomar la decisión manualmente\n",
    "- __Integrarlos en el modelo__\n",
    "    - Modelos estratificados o mixtures que integren los outliers como parte del modelo\n",
    "    - Interesante cuando los valores atípicos no provienen de medidas erróneas"
   ]
  },
  {
   "cell_type": "markdown",
   "metadata": {},
   "source": [
    "### Ejercicios\n",
    "- [Boston housing](ejercicios/boston_housing-outlier_detection.ipynb)\n"
   ]
  },
  {
   "cell_type": "markdown",
   "metadata": {
    "slideshow": {
     "slide_type": "slide"
    }
   },
   "source": [
    "## 3. Distintos órdenes de magnitud"
   ]
  },
  {
   "cell_type": "markdown",
   "metadata": {
    "slideshow": {
     "slide_type": "subslide"
    }
   },
   "source": [
    "### Normalización vs. Estandarización\n",
    "\n",
    "Estos dos términos se usan muchas veces de manera intercambiable\n",
    "- __Normalización__: escalado de valores en el intervalo \\[0, 1\\]\n",
    "- __Estandarización (z-score)__: transformación de la distribución para que tenga media 0 y desviación estándar 1"
   ]
  },
  {
   "cell_type": "markdown",
   "metadata": {
    "slideshow": {
     "slide_type": "subslide"
    }
   },
   "source": [
    "### ¿Por qué es necesario?\n",
    "- Muchos algoritmos de clasificación calculan distancias como parte del aprendizaje\n",
    "- Si algunas variables tienen rangos muy distintos (\\[0, 1\\] vs. \\[0, 1.000.000\\]) la de mayor rango tendrá mucha más influencia en el modelo\n",
    "    - Disminución de la velocidad de convergencia de algunos algoritmos (como ANNs o Gradient Descent)\n",
    "- En otros casos, que la distribución tenga una desviación típica de 1 puede ser beneficioso para el modelo (por ejemplo, Perceptrón Multicapa)\n",
    "- Que los valores estén centrados en la media puede simplificar algunos cálculos (como la matriz de covarianza)\n",
    "- Puede ser recomendable aplicarla después de imputar valores nulos y eliminar valores atípicos"
   ]
  },
  {
   "cell_type": "markdown",
   "metadata": {
    "slideshow": {
     "slide_type": "subslide"
    }
   },
   "source": [
    "### Tipos de normalización\n",
    "\n",
    "- La **normalización L1** trabaja con las desviaciones mínimas, y funciona asegurándose de que la suma de los valores absolutos sea 1 en cada fila. En general, la técnica de normalización L1 se considera más robusta que la técnica de normalización L2 porque es resistente a los valores atípicos en los datos.\n",
    "- La **normalización L2** trabaja con mínimos cuadrados y funciona asegurándose de que la suma de cuadrados sea 1. Si estamos resolviendo un problema donde los valores atípicos son importantes, tal vez la normalización de L2 sea  mejor opción.\n"
   ]
  },
  {
   "cell_type": "code",
   "execution_count": 12,
   "metadata": {
    "slideshow": {
     "slide_type": "slide"
    }
   },
   "outputs": [
    {
     "data": {
      "text/plain": [
       "array([[0.5, 1. ]])"
      ]
     },
     "execution_count": 12,
     "metadata": {},
     "output_type": "execute_result"
    }
   ],
   "source": [
    "from sklearn.preprocessing import Normalizer\n",
    "\n",
    "data = np.array([1.0, 2.0])\n",
    "\n",
    "n_max = Normalizer(norm='max')\n",
    "n_max.fit_transform(data.reshape(1, -1))"
   ]
  },
  {
   "cell_type": "code",
   "execution_count": 13,
   "metadata": {
    "slideshow": {
     "slide_type": "subslide"
    }
   },
   "outputs": [
    {
     "data": {
      "text/plain": [
       "array([[0.33333333, 0.66666667]])"
      ]
     },
     "execution_count": 13,
     "metadata": {},
     "output_type": "execute_result"
    }
   ],
   "source": [
    "n_l1 = Normalizer(norm='l1')\n",
    "n_l1.fit_transform(data.reshape(1, -1))"
   ]
  },
  {
   "cell_type": "code",
   "execution_count": 14,
   "metadata": {
    "slideshow": {
     "slide_type": "-"
    }
   },
   "outputs": [
    {
     "data": {
      "text/plain": [
       "array([[0.4472136 , 0.89442719]])"
      ]
     },
     "execution_count": 14,
     "metadata": {},
     "output_type": "execute_result"
    }
   ],
   "source": [
    "n_l2 = Normalizer(norm='l2')\n",
    "n_l2.fit_transform(data.reshape(1, -1))"
   ]
  },
  {
   "cell_type": "markdown",
   "metadata": {
    "slideshow": {
     "slide_type": "slide"
    }
   },
   "source": [
    "## 4. Selección de variables"
   ]
  },
  {
   "cell_type": "markdown",
   "metadata": {
    "slideshow": {
     "slide_type": "subslide"
    }
   },
   "source": [
    "Algunos conjuntos de datos pueden tener un gran número de variables\n",
    "- Difícil representación gráfica (si es necesaria)\n",
    "- Pueden dificultar la construcción de un modelo (valores engañosos, por ejemplo)\n",
    "- Pueden afectar a la velocidad de convergencia del algoritmo (cálculo de muchas distancias)\n",
    "- Mayor capacidad de generalización (pueden ayudar a prevenir el overfitting)"
   ]
  },
  {
   "cell_type": "code",
   "execution_count": 15,
   "metadata": {
    "slideshow": {
     "slide_type": "subslide"
    }
   },
   "outputs": [
    {
     "data": {
      "image/png": "[encoded data removed]",
      "text/plain": [
       "<Figure size 864x576 with 1 Axes>"
      ]
     },
     "metadata": {
      "needs_background": "light"
     },
     "output_type": "display_data"
    }
   ],
   "source": [
    "%matplotlib inline\n",
    "import numpy as np\n",
    "import matplotlib.pyplot as plt\n",
    "\n",
    "X = np.ndarray(shape=(100, 3))\n",
    "\n",
    "X[:, 0] = np.random.normal(0.0, 5.0, size=100)\n",
    "X[:, 1] = np.random.normal(0.5, 5.0, size=100)\n",
    "X[:, 2] = np.random.normal(1.0, 0.5, size=100)\n",
    "\n",
    "fig, ax = plt.subplots(1, 1, figsize=(12, 8))\n",
    "ax.grid()\n",
    "ax.set_xlabel('X')\n",
    "ax.set_ylabel('Y')\n",
    "\n",
    "ax.plot(X[:, 0], label='STD = 5.0')\n",
    "ax.plot(X[:, 1], label='STD = 5.0')\n",
    "ax.plot(X[:, 2], label='STD = 0.5')\n",
    "\n",
    "plt.legend()\n",
    "plt.show()"
   ]
  },
  {
   "cell_type": "code",
   "execution_count": 16,
   "metadata": {
    "slideshow": {
     "slide_type": "subslide"
    }
   },
   "outputs": [
    {
     "name": "stdout",
     "output_type": "stream",
     "text": [
      "Samples before variance thresholding\n",
      "[[ 2.79801889 -2.45588366  1.18894871]\n",
      " [-4.36774921  8.42290612  1.79156523]\n",
      " [11.29925992 -9.28278027  1.71107572]]\n"
     ]
    }
   ],
   "source": [
    "print('Samples before variance thresholding')\n",
    "print(X[0:3, :])"
   ]
  },
  {
   "cell_type": "code",
   "execution_count": 17,
   "metadata": {
    "slideshow": {
     "slide_type": "subslide"
    }
   },
   "outputs": [
    {
     "name": "stdout",
     "output_type": "stream",
     "text": [
      "Samples after variance thresholding\n",
      "[[ 2.79801889 -2.45588366]\n",
      " [-4.36774921  8.42290612]\n",
      " [11.29925992 -9.28278027]]\n"
     ]
    }
   ],
   "source": [
    "from sklearn.feature_selection import VarianceThreshold\n",
    "\n",
    "vt = VarianceThreshold(threshold=1.5)\n",
    "X_t = vt.fit_transform(X)\n",
    "\n",
    "# After the filter has removed the componenents\n",
    "print('Samples after variance thresholding')\n",
    "print(X_t[0:3, :])"
   ]
  },
  {
   "cell_type": "markdown",
   "metadata": {
    "slideshow": {
     "slide_type": "subslide"
    }
   },
   "source": [
    "#### Técnicas\n",
    "- Selección de atributos\n",
    "    - Filter: pre-procesado previo al algoritmo de aprendizaje\n",
    "    - Wrapper: selección evaluando en el contexto del algoritmo de aprendizaje\n",
    "- Análisis de Componentes Principales (Principal Component Analysis, PCA)\n",
    "- Análisis de correlación"
   ]
  },
  {
   "cell_type": "markdown",
   "metadata": {
    "slideshow": {
     "slide_type": "subslide"
    }
   },
   "source": [
    "#### Análisis de Componentes Principales (PCA)\n",
    "\n",
    "Procedimiento que intenta generar un nuevo sistema de coordenadas para representar los datos a partir de transformaciones lineales sobre las variables originales:\n",
    "- Construcción de matriz de covarianza o de correlación\n",
    "- Pandas provee una función para ello: `pandas.DataFrame.corr`\n",
    "\n",
    "Cada eje ortogonal se escoge en orden de aporte de varianza del modelo creciente (el primer eje, la componente principal que más varianza aporta, etc.)\n",
    "El número de componentes que se utilizarán es decisión del usuario, aunque se suele tomar como mínimo aquéllas que\n",
    "representan un 80% de la varianza original \n",
    "- En muchos casos se exige llegar hasta alrededor del 95%"
   ]
  },
  {
   "cell_type": "code",
   "execution_count": 18,
   "metadata": {
    "slideshow": {
     "slide_type": "subslide"
    }
   },
   "outputs": [
    {
     "data": {
      "text/plain": [
       "(1797, 7)"
      ]
     },
     "execution_count": 18,
     "metadata": {},
     "output_type": "execute_result"
    }
   ],
   "source": [
    "from sklearn.datasets import load_digits\n",
    "from sklearn.decomposition import FactorAnalysis\n",
    "\n",
    "X, _ = load_digits(return_X_y=True)\n",
    "transformer = FactorAnalysis(n_components=7, random_state=0)\n",
    "\n",
    "X_transformed = transformer.fit_transform(X)\n",
    "X_transformed.shape"
   ]
  }
 ],
 "metadata": {
  "celltoolbar": "Slideshow",
  "kernelspec": {
   "display_name": "Python 3",
   "language": "python",
   "name": "python3"
  },
  "language_info": {
   "codemirror_mode": {
    "name": "ipython",
    "version": 3
   },
   "file_extension": ".py",
   "mimetype": "text/x-python",
   "name": "python",
   "nbconvert_exporter": "python",
   "pygments_lexer": "ipython3",
   "version": "3.6.8"
  }
 },
 "nbformat": 4,
 "nbformat_minor": 2
}
