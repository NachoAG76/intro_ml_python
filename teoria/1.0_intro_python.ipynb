{
 "cells": [
  {
   "cell_type": "markdown",
   "metadata": {
    "slideshow": {
     "slide_type": "slide"
    }
   },
   "source": [
    "###### Introducción a Python"
   ]
  },
  {
   "cell_type": "markdown",
   "metadata": {
    "slideshow": {
     "slide_type": "slide"
    }
   },
   "source": [
    "_\"I don't know about the rest of you..._ \n",
    "_I came for the language, but I stayed for the community.\"_\n",
    "\n",
    "Brett Cannon, Python Core Dev\n"
   ]
  },
  {
   "cell_type": "markdown",
   "metadata": {
    "slideshow": {
     "slide_type": "slide"
    }
   },
   "source": [
    "#### ¿Qué es Python?\n",
    "\n",
    "*  Creado por [Guido van Rossum](https://es.wikipedia.org/wiki/Guido_van_Rossum) en 1991.\n",
    "* Lenguaje de programación libre y gratuito. Características:\n",
    "    * interpretado\n",
    "    * de alto nivel\n",
    "    * de propósito general\n",
    "    * tipado dinámico\n",
    "    * gestión automática de memoria\n",
    "    * múltiples paradigmas de programación (OOP, Funcional...)\n",
    "    * multitud de paquetes para realizar diferentes tareas."
   ]
  },
  {
   "cell_type": "markdown",
   "metadata": {
    "slideshow": {
     "slide_type": "slide"
    }
   },
   "source": [
    "#### Además...\n",
    "\n",
    "Con una gran comunidad, abierta, diversa, inclusiva...  \n",
    "- Python Software Foundation\n",
    "- Python España \n",
    "- Python Madrid\n",
    "- PyLadies Madrid\n",
    "- Djangogirls"
   ]
  },
  {
   "cell_type": "markdown",
   "metadata": {
    "slideshow": {
     "slide_type": "slide"
    }
   },
   "source": [
    "## 2. Primeros pasos con Python\n",
    "### Instalación, entornos virtuales y gestores de paquetes"
   ]
  },
  {
   "cell_type": "markdown",
   "metadata": {
    "slideshow": {
     "slide_type": "fragment"
    }
   },
   "source": [
    "### Diferentes distribuciones:\n",
    "* [PYTHON.ORG](https://www.python.org/)\n",
    "* [ANACONDA](https://anaconda.org/) "
   ]
  },
  {
   "cell_type": "markdown",
   "metadata": {
    "slideshow": {
     "slide_type": "fragment"
    }
   },
   "source": [
    "### Diferentes versiones:\n",
    "* 2.X\n",
    "* 3.X"
   ]
  },
  {
   "cell_type": "markdown",
   "metadata": {
    "slideshow": {
     "slide_type": "slide"
    }
   },
   "source": [
    "### Entornos virtuales\n",
    "\n",
    "- El propósito principal de los entornos virtuales de Python es crear un entorno aislado para los proyectos de Python. \n",
    "\n",
    "- Esto significa que cada proyecto puede tener sus propias dependencias, independientemente de qué dependencias tenga cada otro proyecto."
   ]
  },
  {
   "cell_type": "markdown",
   "metadata": {
    "slideshow": {
     "slide_type": "slide"
    }
   },
   "source": [
    "### Entornos virtuales\n",
    "\n",
    "- **venv** es la herramienta estándar para crear entornos virtuales, y ha sido parte de Python desde Python 3.3. A partir de Python 3.4, se instala de forma predeterminada pip en todos los entornos virtuales creados.\n",
    "- **virtualenv** es una alternativa de terceros (y predecesora) a venv. Permite que los entornos virtuales se utilicen en versiones de Python anteriores a 3.4, que no proporcionan ningún tipo de software o no pueden instalar pip automáticamente en los entornos creados.\n"
   ]
  },
  {
   "cell_type": "markdown",
   "metadata": {
    "slideshow": {
     "slide_type": "slide"
    }
   },
   "source": [
    "### Módulo venv - Python 3.x\n",
    "#### Crear el entorno virtual\n",
    "\n",
    "En linux:\n",
    "```bash\n",
    "$ python3 -m venv c:\\path\\to\\myenv\n",
    "```\n",
    "\n",
    "En windows:\n",
    "```bash\n",
    "c:\\> c:\\Python35\\python -m venv c:\\path\\to\\myenv\n",
    "```"
   ]
  },
  {
   "cell_type": "markdown",
   "metadata": {
    "slideshow": {
     "slide_type": "slide"
    }
   },
   "source": [
    "### Módulo venv - Python 3.x\n",
    "#### Activar el entorno virtual\n",
    "En linux:\n",
    "```bash\n",
    "$ source venv/bin/activate\n",
    "```\n",
    "\n",
    "En Windows:\n",
    "```bash\n",
    "c:\\> venv\\Scripts\\activate.bat\n",
    "```"
   ]
  },
  {
   "cell_type": "markdown",
   "metadata": {
    "slideshow": {
     "slide_type": "slide"
    }
   },
   "source": [
    "### Gestión de paquetes con pip\n",
    "- Puede instalar, actualizar y eliminar paquetes utilizando un programa llamado pip. \n",
    "- Python empezó a incluir pip con Python 3.4. Para versiones anteriores, pip debe ser activada como se describe [aquí](https://packaging.python.org/tutorials/installing-packages/#requirements-for-installing-packages).\n",
    "- Por defecto, pip instalará los paquetes del Índice de Paquetes de Python, [pypi.org](https://pypi.org)\n"
   ]
  },
  {
   "cell_type": "markdown",
   "metadata": {
    "slideshow": {
     "slide_type": "slide"
    }
   },
   "source": [
    "Usando la instalación de Python por defecto\n",
    "```bash\n",
    "$ python    -m pip install SomePackage\n",
    "```\n",
    "\n",
    "Usando la versioń por defecto de Python 2\n",
    "```bash\n",
    "$ python2   -m pip install SomePackage\n",
    "```\n",
    "\n",
    "Usando la versión específica de Python 2.7\n",
    "```bash\n",
    "$ python2.7 -m pip install SomePackage  # specifically Python 2.7\n",
    "```\n",
    "\n",
    "Usando la versión por defecto de Python 3\n",
    "```bash\n",
    "$ python3   -m pip install SomePackage  # default Python 3\n",
    "```\n",
    "\n",
    "Usando la versión específica de Python 3.4\n",
    "```bash\n",
    "$ python3.4 -m pip install SomePackage  # specifically Python 3.4\n",
    "```"
   ]
  },
  {
   "cell_type": "markdown",
   "metadata": {
    "slideshow": {
     "slide_type": "slide"
    }
   },
   "source": [
    "Instalar la última versión de “SomeProject”\n",
    "```bash\n",
    "$ pip install \"SomeProject\"\n",
    "```\n",
    "\n",
    "Instalar una versión específica\n",
    "```bash\n",
    "$ pip install \"SomeProject==1.4\"\n",
    "```\n",
    "\n",
    "Instalar una versión compatible con otra versión específica\n",
    "```bash\n",
    "$ pip install \"SomeProject~=1.4.2\"  \n",
    "```"
   ]
  },
  {
   "cell_type": "markdown",
   "metadata": {
    "slideshow": {
     "slide_type": "slide"
    }
   },
   "source": [
    "Actualizar SomeProject a la última versión de PyPi\n",
    "```bash\n",
    "$ pip install --upgrade SomeProject\n",
    "```\n",
    "\n",
    "Instalar una lista de librerías desde un fichero de requirements\n",
    "```bash\n",
    "$ pip install -r requirements.txt\n",
    "```\n",
    "\n",
    "Generar un fichero de requirements a partir del virtual env actual\n",
    "```bash\n",
    "$ pip freeze > requirements.txt\n",
    "```"
   ]
  },
  {
   "cell_type": "markdown",
   "metadata": {
    "slideshow": {
     "slide_type": "slide"
    }
   },
   "source": [
    "## 3. Librerías relevantes\n",
    "#### Ipython, jupyter, numpy, pandas..."
   ]
  },
  {
   "cell_type": "markdown",
   "metadata": {
    "slideshow": {
     "slide_type": "slide"
    }
   },
   "source": [
    "## [Jupyter](https://jupyter.org/)\n",
    "Project Jupyter es una organización sin fines de lucro creada para desarrollar software de código abierto, estándares abiertos y servicios para computación interactiva en docenas de lenguajes de programación."
   ]
  },
  {
   "cell_type": "markdown",
   "metadata": {
    "slideshow": {
     "slide_type": "slide"
    }
   },
   "source": [
    "## Jupyter\n",
    "- [Notebooks](https://jupyter.org/try)\n",
    "- [Jupyter Lab](https://jupyter.org/try)\n",
    "- [Slides](https://github.com/damianavila/RISE)\n"
   ]
  },
  {
   "cell_type": "markdown",
   "metadata": {
    "slideshow": {
     "slide_type": "slide"
    }
   },
   "source": [
    "### IPython\n",
    "\n",
    "- Es un shell interactivo que añade funcionalidades extra al modo interactivo incluido con Python.\n",
    "- Es multiplataforma, es software libre, tiene una enorme comunidad detrás, un desarrollo constante y bien organizado y es extremadamente potente."
   ]
  },
  {
   "cell_type": "markdown",
   "metadata": {
    "slideshow": {
     "slide_type": "slide"
    }
   },
   "source": [
    "## [Numpy](http://www.numpy.org/)\n",
    "NumPy es una extensión de Python, que le agrega mayor soporte para vectores y matrices, constituyendo una biblioteca de funciones matemáticas de alto nivel para operar con esos vectores o matrices."
   ]
  },
  {
   "cell_type": "markdown",
   "metadata": {
    "slideshow": {
     "slide_type": "slide"
    }
   },
   "source": [
    "## Numpy\n",
    "- [Teoría](1.1_numpy.ipynb)\n",
    "- [Ejercicios](ejercicios/numpy_ejercicios.ipynb)"
   ]
  },
  {
   "cell_type": "markdown",
   "metadata": {
    "slideshow": {
     "slide_type": "slide"
    }
   },
   "source": [
    "## [Pandas](https://pandas.pydata.org/)\n",
    "En Computación y Ciencia de datos, pandas es una biblioteca de software escrita como extensión de NumPy para manipulación y análisis de datos para el lenguaje de programación Python. En particular, ofrece estructuras de datos y operaciones para manipular tablas numéricas y series temporales."
   ]
  },
  {
   "cell_type": "markdown",
   "metadata": {
    "slideshow": {
     "slide_type": "slide"
    }
   },
   "source": [
    "## Pandas\n",
    "- [Teoría](1.2_pandas.ipynb)\n",
    "- [Ejercicios](ejercicios/pandas_ejercicios.ipynb)\n",
    "- [Más ejercicios](https://github.com/guipsamora/pandas_exercises)"
   ]
  },
  {
   "cell_type": "markdown",
   "metadata": {
    "slideshow": {
     "slide_type": "slide"
    }
   },
   "source": [
    "## [SciPy](https://www.scipy.org/)\n",
    "SciPy es una biblioteca open source de herramientas y algoritmos matemáticos para Python que nació a partir de la colección original de Travis Oliphant que consistía de módulos de extensión para Python, lanzada en 1999 bajo el nombre de Multipack"
   ]
  },
  {
   "cell_type": "markdown",
   "metadata": {
    "slideshow": {
     "slide_type": "slide"
    }
   },
   "source": [
    "## [Matplotlib](https://matplotlib.org/)\n",
    "Matplotlib es una biblioteca para la generación de gráficos a partir de datos contenidos en listas o arrays en el lenguaje de programación Python y su extensión matemática NumPy. Proporciona una API, pylab, diseñada para recordar a la de MATLAB."
   ]
  },
  {
   "cell_type": "markdown",
   "metadata": {},
   "source": [
    "- [Teoría](1.3_matplotlib.ipynb)\n",
    "- [Ejercicios](https://software-carpentry.org/blog/2012/05/an-exercise-with-matplotlib-and-numpy.html)\n",
    "- [Más ejercicios](https://github.com/donnemartin/data-science-ipython-notebooks/tree/master/matplotlib)"
   ]
  },
  {
   "cell_type": "markdown",
   "metadata": {},
   "source": [
    "## Seaborn"
   ]
  }
 ],
 "metadata": {
  "celltoolbar": "Slideshow",
  "kernelspec": {
   "display_name": "Python 3",
   "language": "python",
   "name": "python3"
  },
  "language_info": {
   "codemirror_mode": {
    "name": "ipython",
    "version": 3
   },
   "file_extension": ".py",
   "mimetype": "text/x-python",
   "name": "python",
   "nbconvert_exporter": "python",
   "pygments_lexer": "ipython3",
   "version": "3.6.8"
  }
 },
 "nbformat": 4,
 "nbformat_minor": 2
}
